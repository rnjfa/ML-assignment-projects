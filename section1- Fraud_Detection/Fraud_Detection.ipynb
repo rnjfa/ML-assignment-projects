{
  "nbformat": 4,
  "nbformat_minor": 0,
  "metadata": {
    "colab": {
      "provenance": []
    },
    "kernelspec": {
      "name": "python3",
      "display_name": "Python 3"
    },
    "language_info": {
      "name": "python"
    },
    "accelerator": "GPU",
    "gpuClass": "standard"
  },
  "cells": [
    {
      "cell_type": "markdown",
      "source": [
        "Fateme Ranjbaran\n",
        "400126060"
      ],
      "metadata": {
        "id": "Nx8eClp7iGOX"
      }
    },
    {
      "cell_type": "code",
      "source": [
        "# Check if NVIDIA GPU is enabled\n",
        "!nvidia-smi"
      ],
      "metadata": {
        "colab": {
          "base_uri": "https://localhost:8080/"
        },
        "id": "14j9r_Fe7KvM",
        "outputId": "af59ca75-4f70-4269-8b43-787d05a7fbdf"
      },
      "execution_count": null,
      "outputs": [
        {
          "output_type": "stream",
          "name": "stdout",
          "text": [
            "Sun Jan 29 08:55:49 2023       \n",
            "+-----------------------------------------------------------------------------+\n",
            "| NVIDIA-SMI 510.47.03    Driver Version: 510.47.03    CUDA Version: 11.6     |\n",
            "|-------------------------------+----------------------+----------------------+\n",
            "| GPU  Name        Persistence-M| Bus-Id        Disp.A | Volatile Uncorr. ECC |\n",
            "| Fan  Temp  Perf  Pwr:Usage/Cap|         Memory-Usage | GPU-Util  Compute M. |\n",
            "|                               |                      |               MIG M. |\n",
            "|===============================+======================+======================|\n",
            "|   0  Tesla T4            Off  | 00000000:00:04.0 Off |                    0 |\n",
            "| N/A   62C    P0    31W /  70W |      0MiB / 15360MiB |      0%      Default |\n",
            "|                               |                      |                  N/A |\n",
            "+-------------------------------+----------------------+----------------------+\n",
            "                                                                               \n",
            "+-----------------------------------------------------------------------------+\n",
            "| Processes:                                                                  |\n",
            "|  GPU   GI   CI        PID   Type   Process name                  GPU Memory |\n",
            "|        ID   ID                                                   Usage      |\n",
            "|=============================================================================|\n",
            "|  No running processes found                                                 |\n",
            "+-----------------------------------------------------------------------------+\n"
          ]
        }
      ]
    },
    {
      "cell_type": "code",
      "execution_count": null,
      "metadata": {
        "id": "4NKCg9mf1lEQ"
      },
      "outputs": [],
      "source": [
        "import pandas as pd, numpy as np , matplotlib.pyplot as plt\n",
        "import tensorflow as tf\n",
        "import torch"
      ]
    },
    {
      "cell_type": "code",
      "source": [
        "from google.colab import drive\n",
        "drive.mount('/content/drive')"
      ],
      "metadata": {
        "id": "WWMSnUQ0Utoy",
        "colab": {
          "base_uri": "https://localhost:8080/"
        },
        "outputId": "4e3a82b8-afd2-4520-cdb1-83e76dcbd427"
      },
      "execution_count": null,
      "outputs": [
        {
          "output_type": "stream",
          "name": "stdout",
          "text": [
            "Mounted at /content/drive\n"
          ]
        }
      ]
    },
    {
      "cell_type": "code",
      "source": [
        "import pandas as pd\n",
        "df = pd.read_csv(\"/content/drive/MyDrive/Fraud_Detection/application_data.csv\")\n",
        "df"
      ],
      "metadata": {
        "id": "FPxUGg1d1nT2",
        "colab": {
          "base_uri": "https://localhost:8080/",
          "height": 487
        },
        "outputId": "5d5eefb0-2716-407d-990e-5bfe3aefd11f"
      },
      "execution_count": null,
      "outputs": [
        {
          "output_type": "execute_result",
          "data": {
            "text/plain": [
              "        SK_ID_CURR  TARGET NAME_CONTRACT_TYPE CODE_GENDER FLAG_OWN_CAR  \\\n",
              "0           100002       1         Cash loans           M            N   \n",
              "1           100003       0         Cash loans           F            N   \n",
              "2           100004       0    Revolving loans           M            Y   \n",
              "3           100006       0         Cash loans           F            N   \n",
              "4           100007       0         Cash loans           M            N   \n",
              "...            ...     ...                ...         ...          ...   \n",
              "307506      456251       0         Cash loans           M            N   \n",
              "307507      456252       0         Cash loans           F            N   \n",
              "307508      456253       0         Cash loans           F            N   \n",
              "307509      456254       1         Cash loans           F            N   \n",
              "307510      456255       0         Cash loans           F            N   \n",
              "\n",
              "       FLAG_OWN_REALTY  CNT_CHILDREN  AMT_INCOME_TOTAL  AMT_CREDIT  \\\n",
              "0                    Y             0          202500.0    406597.5   \n",
              "1                    N             0          270000.0   1293502.5   \n",
              "2                    Y             0           67500.0    135000.0   \n",
              "3                    Y             0          135000.0    312682.5   \n",
              "4                    Y             0          121500.0    513000.0   \n",
              "...                ...           ...               ...         ...   \n",
              "307506               N             0          157500.0    254700.0   \n",
              "307507               Y             0           72000.0    269550.0   \n",
              "307508               Y             0          153000.0    677664.0   \n",
              "307509               Y             0          171000.0    370107.0   \n",
              "307510               N             0          157500.0    675000.0   \n",
              "\n",
              "        AMT_ANNUITY  ...  FLAG_DOCUMENT_18 FLAG_DOCUMENT_19 FLAG_DOCUMENT_20  \\\n",
              "0           24700.5  ...                 0                0                0   \n",
              "1           35698.5  ...                 0                0                0   \n",
              "2            6750.0  ...                 0                0                0   \n",
              "3           29686.5  ...                 0                0                0   \n",
              "4           21865.5  ...                 0                0                0   \n",
              "...             ...  ...               ...              ...              ...   \n",
              "307506      27558.0  ...                 0                0                0   \n",
              "307507      12001.5  ...                 0                0                0   \n",
              "307508      29979.0  ...                 0                0                0   \n",
              "307509      20205.0  ...                 0                0                0   \n",
              "307510      49117.5  ...                 0                0                0   \n",
              "\n",
              "       FLAG_DOCUMENT_21 AMT_REQ_CREDIT_BUREAU_HOUR AMT_REQ_CREDIT_BUREAU_DAY  \\\n",
              "0                     0                        0.0                       0.0   \n",
              "1                     0                        0.0                       0.0   \n",
              "2                     0                        0.0                       0.0   \n",
              "3                     0                        NaN                       NaN   \n",
              "4                     0                        0.0                       0.0   \n",
              "...                 ...                        ...                       ...   \n",
              "307506                0                        NaN                       NaN   \n",
              "307507                0                        NaN                       NaN   \n",
              "307508                0                        1.0                       0.0   \n",
              "307509                0                        0.0                       0.0   \n",
              "307510                0                        0.0                       0.0   \n",
              "\n",
              "        AMT_REQ_CREDIT_BUREAU_WEEK  AMT_REQ_CREDIT_BUREAU_MON  \\\n",
              "0                              0.0                        0.0   \n",
              "1                              0.0                        0.0   \n",
              "2                              0.0                        0.0   \n",
              "3                              NaN                        NaN   \n",
              "4                              0.0                        0.0   \n",
              "...                            ...                        ...   \n",
              "307506                         NaN                        NaN   \n",
              "307507                         NaN                        NaN   \n",
              "307508                         0.0                        1.0   \n",
              "307509                         0.0                        0.0   \n",
              "307510                         0.0                        2.0   \n",
              "\n",
              "        AMT_REQ_CREDIT_BUREAU_QRT  AMT_REQ_CREDIT_BUREAU_YEAR  \n",
              "0                             0.0                         1.0  \n",
              "1                             0.0                         0.0  \n",
              "2                             0.0                         0.0  \n",
              "3                             NaN                         NaN  \n",
              "4                             0.0                         0.0  \n",
              "...                           ...                         ...  \n",
              "307506                        NaN                         NaN  \n",
              "307507                        NaN                         NaN  \n",
              "307508                        0.0                         1.0  \n",
              "307509                        0.0                         0.0  \n",
              "307510                        0.0                         1.0  \n",
              "\n",
              "[307511 rows x 122 columns]"
            ],
            "text/html": [
              "\n",
              "  <div id=\"df-880b4b3e-14d5-49cb-b0da-b13554c1a62b\">\n",
              "    <div class=\"colab-df-container\">\n",
              "      <div>\n",
              "<style scoped>\n",
              "    .dataframe tbody tr th:only-of-type {\n",
              "        vertical-align: middle;\n",
              "    }\n",
              "\n",
              "    .dataframe tbody tr th {\n",
              "        vertical-align: top;\n",
              "    }\n",
              "\n",
              "    .dataframe thead th {\n",
              "        text-align: right;\n",
              "    }\n",
              "</style>\n",
              "<table border=\"1\" class=\"dataframe\">\n",
              "  <thead>\n",
              "    <tr style=\"text-align: right;\">\n",
              "      <th></th>\n",
              "      <th>SK_ID_CURR</th>\n",
              "      <th>TARGET</th>\n",
              "      <th>NAME_CONTRACT_TYPE</th>\n",
              "      <th>CODE_GENDER</th>\n",
              "      <th>FLAG_OWN_CAR</th>\n",
              "      <th>FLAG_OWN_REALTY</th>\n",
              "      <th>CNT_CHILDREN</th>\n",
              "      <th>AMT_INCOME_TOTAL</th>\n",
              "      <th>AMT_CREDIT</th>\n",
              "      <th>AMT_ANNUITY</th>\n",
              "      <th>...</th>\n",
              "      <th>FLAG_DOCUMENT_18</th>\n",
              "      <th>FLAG_DOCUMENT_19</th>\n",
              "      <th>FLAG_DOCUMENT_20</th>\n",
              "      <th>FLAG_DOCUMENT_21</th>\n",
              "      <th>AMT_REQ_CREDIT_BUREAU_HOUR</th>\n",
              "      <th>AMT_REQ_CREDIT_BUREAU_DAY</th>\n",
              "      <th>AMT_REQ_CREDIT_BUREAU_WEEK</th>\n",
              "      <th>AMT_REQ_CREDIT_BUREAU_MON</th>\n",
              "      <th>AMT_REQ_CREDIT_BUREAU_QRT</th>\n",
              "      <th>AMT_REQ_CREDIT_BUREAU_YEAR</th>\n",
              "    </tr>\n",
              "  </thead>\n",
              "  <tbody>\n",
              "    <tr>\n",
              "      <th>0</th>\n",
              "      <td>100002</td>\n",
              "      <td>1</td>\n",
              "      <td>Cash loans</td>\n",
              "      <td>M</td>\n",
              "      <td>N</td>\n",
              "      <td>Y</td>\n",
              "      <td>0</td>\n",
              "      <td>202500.0</td>\n",
              "      <td>406597.5</td>\n",
              "      <td>24700.5</td>\n",
              "      <td>...</td>\n",
              "      <td>0</td>\n",
              "      <td>0</td>\n",
              "      <td>0</td>\n",
              "      <td>0</td>\n",
              "      <td>0.0</td>\n",
              "      <td>0.0</td>\n",
              "      <td>0.0</td>\n",
              "      <td>0.0</td>\n",
              "      <td>0.0</td>\n",
              "      <td>1.0</td>\n",
              "    </tr>\n",
              "    <tr>\n",
              "      <th>1</th>\n",
              "      <td>100003</td>\n",
              "      <td>0</td>\n",
              "      <td>Cash loans</td>\n",
              "      <td>F</td>\n",
              "      <td>N</td>\n",
              "      <td>N</td>\n",
              "      <td>0</td>\n",
              "      <td>270000.0</td>\n",
              "      <td>1293502.5</td>\n",
              "      <td>35698.5</td>\n",
              "      <td>...</td>\n",
              "      <td>0</td>\n",
              "      <td>0</td>\n",
              "      <td>0</td>\n",
              "      <td>0</td>\n",
              "      <td>0.0</td>\n",
              "      <td>0.0</td>\n",
              "      <td>0.0</td>\n",
              "      <td>0.0</td>\n",
              "      <td>0.0</td>\n",
              "      <td>0.0</td>\n",
              "    </tr>\n",
              "    <tr>\n",
              "      <th>2</th>\n",
              "      <td>100004</td>\n",
              "      <td>0</td>\n",
              "      <td>Revolving loans</td>\n",
              "      <td>M</td>\n",
              "      <td>Y</td>\n",
              "      <td>Y</td>\n",
              "      <td>0</td>\n",
              "      <td>67500.0</td>\n",
              "      <td>135000.0</td>\n",
              "      <td>6750.0</td>\n",
              "      <td>...</td>\n",
              "      <td>0</td>\n",
              "      <td>0</td>\n",
              "      <td>0</td>\n",
              "      <td>0</td>\n",
              "      <td>0.0</td>\n",
              "      <td>0.0</td>\n",
              "      <td>0.0</td>\n",
              "      <td>0.0</td>\n",
              "      <td>0.0</td>\n",
              "      <td>0.0</td>\n",
              "    </tr>\n",
              "    <tr>\n",
              "      <th>3</th>\n",
              "      <td>100006</td>\n",
              "      <td>0</td>\n",
              "      <td>Cash loans</td>\n",
              "      <td>F</td>\n",
              "      <td>N</td>\n",
              "      <td>Y</td>\n",
              "      <td>0</td>\n",
              "      <td>135000.0</td>\n",
              "      <td>312682.5</td>\n",
              "      <td>29686.5</td>\n",
              "      <td>...</td>\n",
              "      <td>0</td>\n",
              "      <td>0</td>\n",
              "      <td>0</td>\n",
              "      <td>0</td>\n",
              "      <td>NaN</td>\n",
              "      <td>NaN</td>\n",
              "      <td>NaN</td>\n",
              "      <td>NaN</td>\n",
              "      <td>NaN</td>\n",
              "      <td>NaN</td>\n",
              "    </tr>\n",
              "    <tr>\n",
              "      <th>4</th>\n",
              "      <td>100007</td>\n",
              "      <td>0</td>\n",
              "      <td>Cash loans</td>\n",
              "      <td>M</td>\n",
              "      <td>N</td>\n",
              "      <td>Y</td>\n",
              "      <td>0</td>\n",
              "      <td>121500.0</td>\n",
              "      <td>513000.0</td>\n",
              "      <td>21865.5</td>\n",
              "      <td>...</td>\n",
              "      <td>0</td>\n",
              "      <td>0</td>\n",
              "      <td>0</td>\n",
              "      <td>0</td>\n",
              "      <td>0.0</td>\n",
              "      <td>0.0</td>\n",
              "      <td>0.0</td>\n",
              "      <td>0.0</td>\n",
              "      <td>0.0</td>\n",
              "      <td>0.0</td>\n",
              "    </tr>\n",
              "    <tr>\n",
              "      <th>...</th>\n",
              "      <td>...</td>\n",
              "      <td>...</td>\n",
              "      <td>...</td>\n",
              "      <td>...</td>\n",
              "      <td>...</td>\n",
              "      <td>...</td>\n",
              "      <td>...</td>\n",
              "      <td>...</td>\n",
              "      <td>...</td>\n",
              "      <td>...</td>\n",
              "      <td>...</td>\n",
              "      <td>...</td>\n",
              "      <td>...</td>\n",
              "      <td>...</td>\n",
              "      <td>...</td>\n",
              "      <td>...</td>\n",
              "      <td>...</td>\n",
              "      <td>...</td>\n",
              "      <td>...</td>\n",
              "      <td>...</td>\n",
              "      <td>...</td>\n",
              "    </tr>\n",
              "    <tr>\n",
              "      <th>307506</th>\n",
              "      <td>456251</td>\n",
              "      <td>0</td>\n",
              "      <td>Cash loans</td>\n",
              "      <td>M</td>\n",
              "      <td>N</td>\n",
              "      <td>N</td>\n",
              "      <td>0</td>\n",
              "      <td>157500.0</td>\n",
              "      <td>254700.0</td>\n",
              "      <td>27558.0</td>\n",
              "      <td>...</td>\n",
              "      <td>0</td>\n",
              "      <td>0</td>\n",
              "      <td>0</td>\n",
              "      <td>0</td>\n",
              "      <td>NaN</td>\n",
              "      <td>NaN</td>\n",
              "      <td>NaN</td>\n",
              "      <td>NaN</td>\n",
              "      <td>NaN</td>\n",
              "      <td>NaN</td>\n",
              "    </tr>\n",
              "    <tr>\n",
              "      <th>307507</th>\n",
              "      <td>456252</td>\n",
              "      <td>0</td>\n",
              "      <td>Cash loans</td>\n",
              "      <td>F</td>\n",
              "      <td>N</td>\n",
              "      <td>Y</td>\n",
              "      <td>0</td>\n",
              "      <td>72000.0</td>\n",
              "      <td>269550.0</td>\n",
              "      <td>12001.5</td>\n",
              "      <td>...</td>\n",
              "      <td>0</td>\n",
              "      <td>0</td>\n",
              "      <td>0</td>\n",
              "      <td>0</td>\n",
              "      <td>NaN</td>\n",
              "      <td>NaN</td>\n",
              "      <td>NaN</td>\n",
              "      <td>NaN</td>\n",
              "      <td>NaN</td>\n",
              "      <td>NaN</td>\n",
              "    </tr>\n",
              "    <tr>\n",
              "      <th>307508</th>\n",
              "      <td>456253</td>\n",
              "      <td>0</td>\n",
              "      <td>Cash loans</td>\n",
              "      <td>F</td>\n",
              "      <td>N</td>\n",
              "      <td>Y</td>\n",
              "      <td>0</td>\n",
              "      <td>153000.0</td>\n",
              "      <td>677664.0</td>\n",
              "      <td>29979.0</td>\n",
              "      <td>...</td>\n",
              "      <td>0</td>\n",
              "      <td>0</td>\n",
              "      <td>0</td>\n",
              "      <td>0</td>\n",
              "      <td>1.0</td>\n",
              "      <td>0.0</td>\n",
              "      <td>0.0</td>\n",
              "      <td>1.0</td>\n",
              "      <td>0.0</td>\n",
              "      <td>1.0</td>\n",
              "    </tr>\n",
              "    <tr>\n",
              "      <th>307509</th>\n",
              "      <td>456254</td>\n",
              "      <td>1</td>\n",
              "      <td>Cash loans</td>\n",
              "      <td>F</td>\n",
              "      <td>N</td>\n",
              "      <td>Y</td>\n",
              "      <td>0</td>\n",
              "      <td>171000.0</td>\n",
              "      <td>370107.0</td>\n",
              "      <td>20205.0</td>\n",
              "      <td>...</td>\n",
              "      <td>0</td>\n",
              "      <td>0</td>\n",
              "      <td>0</td>\n",
              "      <td>0</td>\n",
              "      <td>0.0</td>\n",
              "      <td>0.0</td>\n",
              "      <td>0.0</td>\n",
              "      <td>0.0</td>\n",
              "      <td>0.0</td>\n",
              "      <td>0.0</td>\n",
              "    </tr>\n",
              "    <tr>\n",
              "      <th>307510</th>\n",
              "      <td>456255</td>\n",
              "      <td>0</td>\n",
              "      <td>Cash loans</td>\n",
              "      <td>F</td>\n",
              "      <td>N</td>\n",
              "      <td>N</td>\n",
              "      <td>0</td>\n",
              "      <td>157500.0</td>\n",
              "      <td>675000.0</td>\n",
              "      <td>49117.5</td>\n",
              "      <td>...</td>\n",
              "      <td>0</td>\n",
              "      <td>0</td>\n",
              "      <td>0</td>\n",
              "      <td>0</td>\n",
              "      <td>0.0</td>\n",
              "      <td>0.0</td>\n",
              "      <td>0.0</td>\n",
              "      <td>2.0</td>\n",
              "      <td>0.0</td>\n",
              "      <td>1.0</td>\n",
              "    </tr>\n",
              "  </tbody>\n",
              "</table>\n",
              "<p>307511 rows × 122 columns</p>\n",
              "</div>\n",
              "      <button class=\"colab-df-convert\" onclick=\"convertToInteractive('df-880b4b3e-14d5-49cb-b0da-b13554c1a62b')\"\n",
              "              title=\"Convert this dataframe to an interactive table.\"\n",
              "              style=\"display:none;\">\n",
              "        \n",
              "  <svg xmlns=\"http://www.w3.org/2000/svg\" height=\"24px\"viewBox=\"0 0 24 24\"\n",
              "       width=\"24px\">\n",
              "    <path d=\"M0 0h24v24H0V0z\" fill=\"none\"/>\n",
              "    <path d=\"M18.56 5.44l.94 2.06.94-2.06 2.06-.94-2.06-.94-.94-2.06-.94 2.06-2.06.94zm-11 1L8.5 8.5l.94-2.06 2.06-.94-2.06-.94L8.5 2.5l-.94 2.06-2.06.94zm10 10l.94 2.06.94-2.06 2.06-.94-2.06-.94-.94-2.06-.94 2.06-2.06.94z\"/><path d=\"M17.41 7.96l-1.37-1.37c-.4-.4-.92-.59-1.43-.59-.52 0-1.04.2-1.43.59L10.3 9.45l-7.72 7.72c-.78.78-.78 2.05 0 2.83L4 21.41c.39.39.9.59 1.41.59.51 0 1.02-.2 1.41-.59l7.78-7.78 2.81-2.81c.8-.78.8-2.07 0-2.86zM5.41 20L4 18.59l7.72-7.72 1.47 1.35L5.41 20z\"/>\n",
              "  </svg>\n",
              "      </button>\n",
              "      \n",
              "  <style>\n",
              "    .colab-df-container {\n",
              "      display:flex;\n",
              "      flex-wrap:wrap;\n",
              "      gap: 12px;\n",
              "    }\n",
              "\n",
              "    .colab-df-convert {\n",
              "      background-color: #E8F0FE;\n",
              "      border: none;\n",
              "      border-radius: 50%;\n",
              "      cursor: pointer;\n",
              "      display: none;\n",
              "      fill: #1967D2;\n",
              "      height: 32px;\n",
              "      padding: 0 0 0 0;\n",
              "      width: 32px;\n",
              "    }\n",
              "\n",
              "    .colab-df-convert:hover {\n",
              "      background-color: #E2EBFA;\n",
              "      box-shadow: 0px 1px 2px rgba(60, 64, 67, 0.3), 0px 1px 3px 1px rgba(60, 64, 67, 0.15);\n",
              "      fill: #174EA6;\n",
              "    }\n",
              "\n",
              "    [theme=dark] .colab-df-convert {\n",
              "      background-color: #3B4455;\n",
              "      fill: #D2E3FC;\n",
              "    }\n",
              "\n",
              "    [theme=dark] .colab-df-convert:hover {\n",
              "      background-color: #434B5C;\n",
              "      box-shadow: 0px 1px 3px 1px rgba(0, 0, 0, 0.15);\n",
              "      filter: drop-shadow(0px 1px 2px rgba(0, 0, 0, 0.3));\n",
              "      fill: #FFFFFF;\n",
              "    }\n",
              "  </style>\n",
              "\n",
              "      <script>\n",
              "        const buttonEl =\n",
              "          document.querySelector('#df-880b4b3e-14d5-49cb-b0da-b13554c1a62b button.colab-df-convert');\n",
              "        buttonEl.style.display =\n",
              "          google.colab.kernel.accessAllowed ? 'block' : 'none';\n",
              "\n",
              "        async function convertToInteractive(key) {\n",
              "          const element = document.querySelector('#df-880b4b3e-14d5-49cb-b0da-b13554c1a62b');\n",
              "          const dataTable =\n",
              "            await google.colab.kernel.invokeFunction('convertToInteractive',\n",
              "                                                     [key], {});\n",
              "          if (!dataTable) return;\n",
              "\n",
              "          const docLinkHtml = 'Like what you see? Visit the ' +\n",
              "            '<a target=\"_blank\" href=https://colab.research.google.com/notebooks/data_table.ipynb>data table notebook</a>'\n",
              "            + ' to learn more about interactive tables.';\n",
              "          element.innerHTML = '';\n",
              "          dataTable['output_type'] = 'display_data';\n",
              "          await google.colab.output.renderOutput(dataTable, element);\n",
              "          const docLink = document.createElement('div');\n",
              "          docLink.innerHTML = docLinkHtml;\n",
              "          element.appendChild(docLink);\n",
              "        }\n",
              "      </script>\n",
              "    </div>\n",
              "  </div>\n",
              "  "
            ]
          },
          "metadata": {},
          "execution_count": 5
        }
      ]
    },
    {
      "cell_type": "code",
      "source": [],
      "metadata": {
        "id": "Cz0QJJHkRi0U"
      },
      "execution_count": null,
      "outputs": []
    },
    {
      "cell_type": "markdown",
      "source": [
        "# NAN Values"
      ],
      "metadata": {
        "id": "uttFviqKRj9n"
      }
    },
    {
      "cell_type": "markdown",
      "source": [
        "numbers of NANs"
      ],
      "metadata": {
        "id": "ZzY8JMAD-NpO"
      }
    },
    {
      "cell_type": "code",
      "source": [
        "print(\"\\33[91m\" ,\"columns                     number of nan\" , \"\\33[0m\" )\n",
        "print(\"=========\"*5)\n",
        "for c in df.columns:\n",
        "  print(f\"{c:30}     {df[c].isna().sum()}\")\n",
        "  print(\"---------\"*5)"
      ],
      "metadata": {
        "id": "ppm2_Byc1nWv",
        "colab": {
          "base_uri": "https://localhost:8080/"
        },
        "outputId": "1a8705bb-78ef-4dcc-bc07-2acf72e786c6"
      },
      "execution_count": null,
      "outputs": [
        {
          "output_type": "stream",
          "name": "stdout",
          "text": [
            "\u001b[91m columns                     number of nan \u001b[0m\n",
            "=============================================\n",
            "SK_ID_CURR                         0\n",
            "---------------------------------------------\n",
            "TARGET                             0\n",
            "---------------------------------------------\n",
            "NAME_CONTRACT_TYPE                 0\n",
            "---------------------------------------------\n",
            "CODE_GENDER                        0\n",
            "---------------------------------------------\n",
            "FLAG_OWN_CAR                       0\n",
            "---------------------------------------------\n",
            "FLAG_OWN_REALTY                    0\n",
            "---------------------------------------------\n",
            "CNT_CHILDREN                       0\n",
            "---------------------------------------------\n",
            "AMT_INCOME_TOTAL                   0\n",
            "---------------------------------------------\n",
            "AMT_CREDIT                         0\n",
            "---------------------------------------------\n",
            "AMT_ANNUITY                        12\n",
            "---------------------------------------------\n",
            "AMT_GOODS_PRICE                    278\n",
            "---------------------------------------------\n",
            "NAME_TYPE_SUITE                    1292\n",
            "---------------------------------------------\n",
            "NAME_INCOME_TYPE                   0\n",
            "---------------------------------------------\n",
            "NAME_EDUCATION_TYPE                0\n",
            "---------------------------------------------\n",
            "NAME_FAMILY_STATUS                 0\n",
            "---------------------------------------------\n",
            "NAME_HOUSING_TYPE                  0\n",
            "---------------------------------------------\n",
            "REGION_POPULATION_RELATIVE         0\n",
            "---------------------------------------------\n",
            "DAYS_BIRTH                         0\n",
            "---------------------------------------------\n",
            "DAYS_EMPLOYED                      0\n",
            "---------------------------------------------\n",
            "DAYS_REGISTRATION                  0\n",
            "---------------------------------------------\n",
            "DAYS_ID_PUBLISH                    0\n",
            "---------------------------------------------\n",
            "OWN_CAR_AGE                        202929\n",
            "---------------------------------------------\n",
            "FLAG_MOBIL                         0\n",
            "---------------------------------------------\n",
            "FLAG_EMP_PHONE                     0\n",
            "---------------------------------------------\n",
            "FLAG_WORK_PHONE                    0\n",
            "---------------------------------------------\n",
            "FLAG_CONT_MOBILE                   0\n",
            "---------------------------------------------\n",
            "FLAG_PHONE                         0\n",
            "---------------------------------------------\n",
            "FLAG_EMAIL                         0\n",
            "---------------------------------------------\n",
            "OCCUPATION_TYPE                    96391\n",
            "---------------------------------------------\n",
            "CNT_FAM_MEMBERS                    2\n",
            "---------------------------------------------\n",
            "REGION_RATING_CLIENT               0\n",
            "---------------------------------------------\n",
            "REGION_RATING_CLIENT_W_CITY        0\n",
            "---------------------------------------------\n",
            "WEEKDAY_APPR_PROCESS_START         0\n",
            "---------------------------------------------\n",
            "HOUR_APPR_PROCESS_START            0\n",
            "---------------------------------------------\n",
            "REG_REGION_NOT_LIVE_REGION         0\n",
            "---------------------------------------------\n",
            "REG_REGION_NOT_WORK_REGION         0\n",
            "---------------------------------------------\n",
            "LIVE_REGION_NOT_WORK_REGION        0\n",
            "---------------------------------------------\n",
            "REG_CITY_NOT_LIVE_CITY             0\n",
            "---------------------------------------------\n",
            "REG_CITY_NOT_WORK_CITY             0\n",
            "---------------------------------------------\n",
            "LIVE_CITY_NOT_WORK_CITY            0\n",
            "---------------------------------------------\n",
            "ORGANIZATION_TYPE                  0\n",
            "---------------------------------------------\n",
            "EXT_SOURCE_1                       173378\n",
            "---------------------------------------------\n",
            "EXT_SOURCE_2                       660\n",
            "---------------------------------------------\n",
            "EXT_SOURCE_3                       60965\n",
            "---------------------------------------------\n",
            "APARTMENTS_AVG                     156061\n",
            "---------------------------------------------\n",
            "BASEMENTAREA_AVG                   179943\n",
            "---------------------------------------------\n",
            "YEARS_BEGINEXPLUATATION_AVG        150007\n",
            "---------------------------------------------\n",
            "YEARS_BUILD_AVG                    204488\n",
            "---------------------------------------------\n",
            "COMMONAREA_AVG                     214865\n",
            "---------------------------------------------\n",
            "ELEVATORS_AVG                      163891\n",
            "---------------------------------------------\n",
            "ENTRANCES_AVG                      154828\n",
            "---------------------------------------------\n",
            "FLOORSMAX_AVG                      153020\n",
            "---------------------------------------------\n",
            "FLOORSMIN_AVG                      208642\n",
            "---------------------------------------------\n",
            "LANDAREA_AVG                       182590\n",
            "---------------------------------------------\n",
            "LIVINGAPARTMENTS_AVG               210199\n",
            "---------------------------------------------\n",
            "LIVINGAREA_AVG                     154350\n",
            "---------------------------------------------\n",
            "NONLIVINGAPARTMENTS_AVG            213514\n",
            "---------------------------------------------\n",
            "NONLIVINGAREA_AVG                  169682\n",
            "---------------------------------------------\n",
            "APARTMENTS_MODE                    156061\n",
            "---------------------------------------------\n",
            "BASEMENTAREA_MODE                  179943\n",
            "---------------------------------------------\n",
            "YEARS_BEGINEXPLUATATION_MODE       150007\n",
            "---------------------------------------------\n",
            "YEARS_BUILD_MODE                   204488\n",
            "---------------------------------------------\n",
            "COMMONAREA_MODE                    214865\n",
            "---------------------------------------------\n",
            "ELEVATORS_MODE                     163891\n",
            "---------------------------------------------\n",
            "ENTRANCES_MODE                     154828\n",
            "---------------------------------------------\n",
            "FLOORSMAX_MODE                     153020\n",
            "---------------------------------------------\n",
            "FLOORSMIN_MODE                     208642\n",
            "---------------------------------------------\n",
            "LANDAREA_MODE                      182590\n",
            "---------------------------------------------\n",
            "LIVINGAPARTMENTS_MODE              210199\n",
            "---------------------------------------------\n",
            "LIVINGAREA_MODE                    154350\n",
            "---------------------------------------------\n",
            "NONLIVINGAPARTMENTS_MODE           213514\n",
            "---------------------------------------------\n",
            "NONLIVINGAREA_MODE                 169682\n",
            "---------------------------------------------\n",
            "APARTMENTS_MEDI                    156061\n",
            "---------------------------------------------\n",
            "BASEMENTAREA_MEDI                  179943\n",
            "---------------------------------------------\n",
            "YEARS_BEGINEXPLUATATION_MEDI       150007\n",
            "---------------------------------------------\n",
            "YEARS_BUILD_MEDI                   204488\n",
            "---------------------------------------------\n",
            "COMMONAREA_MEDI                    214865\n",
            "---------------------------------------------\n",
            "ELEVATORS_MEDI                     163891\n",
            "---------------------------------------------\n",
            "ENTRANCES_MEDI                     154828\n",
            "---------------------------------------------\n",
            "FLOORSMAX_MEDI                     153020\n",
            "---------------------------------------------\n",
            "FLOORSMIN_MEDI                     208642\n",
            "---------------------------------------------\n",
            "LANDAREA_MEDI                      182590\n",
            "---------------------------------------------\n",
            "LIVINGAPARTMENTS_MEDI              210199\n",
            "---------------------------------------------\n",
            "LIVINGAREA_MEDI                    154350\n",
            "---------------------------------------------\n",
            "NONLIVINGAPARTMENTS_MEDI           213514\n",
            "---------------------------------------------\n",
            "NONLIVINGAREA_MEDI                 169682\n",
            "---------------------------------------------\n",
            "FONDKAPREMONT_MODE                 210295\n",
            "---------------------------------------------\n",
            "HOUSETYPE_MODE                     154297\n",
            "---------------------------------------------\n",
            "TOTALAREA_MODE                     148431\n",
            "---------------------------------------------\n",
            "WALLSMATERIAL_MODE                 156341\n",
            "---------------------------------------------\n",
            "EMERGENCYSTATE_MODE                145755\n",
            "---------------------------------------------\n",
            "OBS_30_CNT_SOCIAL_CIRCLE           1021\n",
            "---------------------------------------------\n",
            "DEF_30_CNT_SOCIAL_CIRCLE           1021\n",
            "---------------------------------------------\n",
            "OBS_60_CNT_SOCIAL_CIRCLE           1021\n",
            "---------------------------------------------\n",
            "DEF_60_CNT_SOCIAL_CIRCLE           1021\n",
            "---------------------------------------------\n",
            "DAYS_LAST_PHONE_CHANGE             1\n",
            "---------------------------------------------\n",
            "FLAG_DOCUMENT_2                    0\n",
            "---------------------------------------------\n",
            "FLAG_DOCUMENT_3                    0\n",
            "---------------------------------------------\n",
            "FLAG_DOCUMENT_4                    0\n",
            "---------------------------------------------\n",
            "FLAG_DOCUMENT_5                    0\n",
            "---------------------------------------------\n",
            "FLAG_DOCUMENT_6                    0\n",
            "---------------------------------------------\n",
            "FLAG_DOCUMENT_7                    0\n",
            "---------------------------------------------\n",
            "FLAG_DOCUMENT_8                    0\n",
            "---------------------------------------------\n",
            "FLAG_DOCUMENT_9                    0\n",
            "---------------------------------------------\n",
            "FLAG_DOCUMENT_10                   0\n",
            "---------------------------------------------\n",
            "FLAG_DOCUMENT_11                   0\n",
            "---------------------------------------------\n",
            "FLAG_DOCUMENT_12                   0\n",
            "---------------------------------------------\n",
            "FLAG_DOCUMENT_13                   0\n",
            "---------------------------------------------\n",
            "FLAG_DOCUMENT_14                   0\n",
            "---------------------------------------------\n",
            "FLAG_DOCUMENT_15                   0\n",
            "---------------------------------------------\n",
            "FLAG_DOCUMENT_16                   0\n",
            "---------------------------------------------\n",
            "FLAG_DOCUMENT_17                   0\n",
            "---------------------------------------------\n",
            "FLAG_DOCUMENT_18                   0\n",
            "---------------------------------------------\n",
            "FLAG_DOCUMENT_19                   0\n",
            "---------------------------------------------\n",
            "FLAG_DOCUMENT_20                   0\n",
            "---------------------------------------------\n",
            "FLAG_DOCUMENT_21                   0\n",
            "---------------------------------------------\n",
            "AMT_REQ_CREDIT_BUREAU_HOUR         41519\n",
            "---------------------------------------------\n",
            "AMT_REQ_CREDIT_BUREAU_DAY          41519\n",
            "---------------------------------------------\n",
            "AMT_REQ_CREDIT_BUREAU_WEEK         41519\n",
            "---------------------------------------------\n",
            "AMT_REQ_CREDIT_BUREAU_MON          41519\n",
            "---------------------------------------------\n",
            "AMT_REQ_CREDIT_BUREAU_QRT          41519\n",
            "---------------------------------------------\n",
            "AMT_REQ_CREDIT_BUREAU_YEAR         41519\n",
            "---------------------------------------------\n"
          ]
        }
      ]
    },
    {
      "cell_type": "markdown",
      "source": [
        "\n",
        "Our dataset has 307511 datas and we can eliminate columns with more than 95000 null values"
      ],
      "metadata": {
        "id": "ujFBUnBS-Ha7"
      }
    },
    {
      "cell_type": "code",
      "source": [
        "# delete columns that number of nan id greater than 95000\n",
        "for c in df.columns:\n",
        "  if df[c].isna().sum() > 95000:\n",
        "    df.drop(c , inplace=True, axis=1)\n",
        "    print(f'column   {c:30}   is deleted from dataframe')\n"
      ],
      "metadata": {
        "id": "9HVyDDB41nb5",
        "colab": {
          "base_uri": "https://localhost:8080/"
        },
        "outputId": "be0ca6b2-45d2-49a3-c729-8813669ed9b9"
      },
      "execution_count": null,
      "outputs": [
        {
          "output_type": "stream",
          "name": "stdout",
          "text": [
            "column   OWN_CAR_AGE                      is deleted from dataframe\n",
            "column   OCCUPATION_TYPE                  is deleted from dataframe\n",
            "column   EXT_SOURCE_1                     is deleted from dataframe\n",
            "column   APARTMENTS_AVG                   is deleted from dataframe\n",
            "column   BASEMENTAREA_AVG                 is deleted from dataframe\n",
            "column   YEARS_BEGINEXPLUATATION_AVG      is deleted from dataframe\n",
            "column   YEARS_BUILD_AVG                  is deleted from dataframe\n",
            "column   COMMONAREA_AVG                   is deleted from dataframe\n",
            "column   ELEVATORS_AVG                    is deleted from dataframe\n",
            "column   ENTRANCES_AVG                    is deleted from dataframe\n",
            "column   FLOORSMAX_AVG                    is deleted from dataframe\n",
            "column   FLOORSMIN_AVG                    is deleted from dataframe\n",
            "column   LANDAREA_AVG                     is deleted from dataframe\n",
            "column   LIVINGAPARTMENTS_AVG             is deleted from dataframe\n",
            "column   LIVINGAREA_AVG                   is deleted from dataframe\n",
            "column   NONLIVINGAPARTMENTS_AVG          is deleted from dataframe\n",
            "column   NONLIVINGAREA_AVG                is deleted from dataframe\n",
            "column   APARTMENTS_MODE                  is deleted from dataframe\n",
            "column   BASEMENTAREA_MODE                is deleted from dataframe\n",
            "column   YEARS_BEGINEXPLUATATION_MODE     is deleted from dataframe\n",
            "column   YEARS_BUILD_MODE                 is deleted from dataframe\n",
            "column   COMMONAREA_MODE                  is deleted from dataframe\n",
            "column   ELEVATORS_MODE                   is deleted from dataframe\n",
            "column   ENTRANCES_MODE                   is deleted from dataframe\n",
            "column   FLOORSMAX_MODE                   is deleted from dataframe\n",
            "column   FLOORSMIN_MODE                   is deleted from dataframe\n",
            "column   LANDAREA_MODE                    is deleted from dataframe\n",
            "column   LIVINGAPARTMENTS_MODE            is deleted from dataframe\n",
            "column   LIVINGAREA_MODE                  is deleted from dataframe\n",
            "column   NONLIVINGAPARTMENTS_MODE         is deleted from dataframe\n",
            "column   NONLIVINGAREA_MODE               is deleted from dataframe\n",
            "column   APARTMENTS_MEDI                  is deleted from dataframe\n",
            "column   BASEMENTAREA_MEDI                is deleted from dataframe\n",
            "column   YEARS_BEGINEXPLUATATION_MEDI     is deleted from dataframe\n",
            "column   YEARS_BUILD_MEDI                 is deleted from dataframe\n",
            "column   COMMONAREA_MEDI                  is deleted from dataframe\n",
            "column   ELEVATORS_MEDI                   is deleted from dataframe\n",
            "column   ENTRANCES_MEDI                   is deleted from dataframe\n",
            "column   FLOORSMAX_MEDI                   is deleted from dataframe\n",
            "column   FLOORSMIN_MEDI                   is deleted from dataframe\n",
            "column   LANDAREA_MEDI                    is deleted from dataframe\n",
            "column   LIVINGAPARTMENTS_MEDI            is deleted from dataframe\n",
            "column   LIVINGAREA_MEDI                  is deleted from dataframe\n",
            "column   NONLIVINGAPARTMENTS_MEDI         is deleted from dataframe\n",
            "column   NONLIVINGAREA_MEDI               is deleted from dataframe\n",
            "column   FONDKAPREMONT_MODE               is deleted from dataframe\n",
            "column   HOUSETYPE_MODE                   is deleted from dataframe\n",
            "column   TOTALAREA_MODE                   is deleted from dataframe\n",
            "column   WALLSMATERIAL_MODE               is deleted from dataframe\n",
            "column   EMERGENCYSTATE_MODE              is deleted from dataframe\n"
          ]
        }
      ]
    },
    {
      "cell_type": "code",
      "source": [
        "df.shape"
      ],
      "metadata": {
        "id": "d4UBzING1nek",
        "colab": {
          "base_uri": "https://localhost:8080/"
        },
        "outputId": "9feaa64c-2b62-422c-87fb-071d27cb616d"
      },
      "execution_count": null,
      "outputs": [
        {
          "output_type": "execute_result",
          "data": {
            "text/plain": [
              "(307511, 72)"
            ]
          },
          "metadata": {},
          "execution_count": 8
        }
      ]
    },
    {
      "cell_type": "code",
      "source": [],
      "metadata": {
        "id": "Hp3SqYnk1nhZ"
      },
      "execution_count": null,
      "outputs": []
    },
    {
      "cell_type": "markdown",
      "source": [
        "# still some columns has nan value. we can replace nan with zero,mean ,mode or delete that sample row"
      ],
      "metadata": {
        "id": "pqvNx0kTAvr5"
      }
    },
    {
      "cell_type": "code",
      "source": [
        "original_samples_numbers = df.shape[0]\n",
        "df = df.dropna()\n",
        "df.shape"
      ],
      "metadata": {
        "id": "dw_cPhtC1nkO",
        "colab": {
          "base_uri": "https://localhost:8080/"
        },
        "outputId": "a7cb1fbc-7096-465d-ce23-95b4a18d90a0"
      },
      "execution_count": null,
      "outputs": [
        {
          "output_type": "execute_result",
          "data": {
            "text/plain": [
              "(244280, 72)"
            ]
          },
          "metadata": {},
          "execution_count": 9
        }
      ]
    },
    {
      "cell_type": "code",
      "source": [
        "# missing data in this method\n",
        "(original_samples_numbers - df.shape[0]) / original_samples_numbers"
      ],
      "metadata": {
        "id": "XzSfK-_p1nm0",
        "colab": {
          "base_uri": "https://localhost:8080/"
        },
        "outputId": "cda212fc-4941-42d7-9800-9d037f47802d"
      },
      "execution_count": null,
      "outputs": [
        {
          "output_type": "execute_result",
          "data": {
            "text/plain": [
              "0.2056219127120656"
            ]
          },
          "metadata": {},
          "execution_count": 10
        }
      ]
    },
    {
      "cell_type": "markdown",
      "source": [
        "so in this case we lose 20% of data, that's ok.\n",
        "if the lossing samples was large, we could use method \"*fillna*\" or \"*input*\" methods to replace nan values with reasonable values."
      ],
      "metadata": {
        "id": "QljZjS4ZB0Iv"
      }
    },
    {
      "cell_type": "code",
      "source": [],
      "metadata": {
        "id": "ZcfdWW_SQ1DK"
      },
      "execution_count": null,
      "outputs": []
    },
    {
      "cell_type": "code",
      "source": [],
      "metadata": {
        "id": "J9b-z8tDQ1AT"
      },
      "execution_count": null,
      "outputs": []
    },
    {
      "cell_type": "markdown",
      "source": [
        "\n",
        "\n",
        "\n",
        "# Expert knowledge"
      ],
      "metadata": {
        "id": "ppfxYEqnRG5P"
      }
    },
    {
      "cell_type": "markdown",
      "source": [
        "we can delete some columns that we know they dont have any effect on TARGET"
      ],
      "metadata": {
        "id": "yswyxYdeR96h"
      }
    },
    {
      "cell_type": "code",
      "source": [
        "for c in df.columns:print(c)"
      ],
      "metadata": {
        "id": "QQCR3xAnQ0-w",
        "colab": {
          "base_uri": "https://localhost:8080/"
        },
        "outputId": "34e36cbb-00a0-44d1-cb7e-33fe03e5c165"
      },
      "execution_count": null,
      "outputs": [
        {
          "output_type": "stream",
          "name": "stdout",
          "text": [
            "SK_ID_CURR\n",
            "TARGET\n",
            "NAME_CONTRACT_TYPE\n",
            "CODE_GENDER\n",
            "FLAG_OWN_CAR\n",
            "FLAG_OWN_REALTY\n",
            "CNT_CHILDREN\n",
            "AMT_INCOME_TOTAL\n",
            "AMT_CREDIT\n",
            "AMT_ANNUITY\n",
            "AMT_GOODS_PRICE\n",
            "NAME_TYPE_SUITE\n",
            "NAME_INCOME_TYPE\n",
            "NAME_EDUCATION_TYPE\n",
            "NAME_FAMILY_STATUS\n",
            "NAME_HOUSING_TYPE\n",
            "REGION_POPULATION_RELATIVE\n",
            "DAYS_BIRTH\n",
            "DAYS_EMPLOYED\n",
            "DAYS_REGISTRATION\n",
            "DAYS_ID_PUBLISH\n",
            "FLAG_MOBIL\n",
            "FLAG_EMP_PHONE\n",
            "FLAG_WORK_PHONE\n",
            "FLAG_CONT_MOBILE\n",
            "FLAG_PHONE\n",
            "FLAG_EMAIL\n",
            "CNT_FAM_MEMBERS\n",
            "REGION_RATING_CLIENT\n",
            "REGION_RATING_CLIENT_W_CITY\n",
            "WEEKDAY_APPR_PROCESS_START\n",
            "HOUR_APPR_PROCESS_START\n",
            "REG_REGION_NOT_LIVE_REGION\n",
            "REG_REGION_NOT_WORK_REGION\n",
            "LIVE_REGION_NOT_WORK_REGION\n",
            "REG_CITY_NOT_LIVE_CITY\n",
            "REG_CITY_NOT_WORK_CITY\n",
            "LIVE_CITY_NOT_WORK_CITY\n",
            "ORGANIZATION_TYPE\n",
            "EXT_SOURCE_2\n",
            "EXT_SOURCE_3\n",
            "OBS_30_CNT_SOCIAL_CIRCLE\n",
            "DEF_30_CNT_SOCIAL_CIRCLE\n",
            "OBS_60_CNT_SOCIAL_CIRCLE\n",
            "DEF_60_CNT_SOCIAL_CIRCLE\n",
            "DAYS_LAST_PHONE_CHANGE\n",
            "FLAG_DOCUMENT_2\n",
            "FLAG_DOCUMENT_3\n",
            "FLAG_DOCUMENT_4\n",
            "FLAG_DOCUMENT_5\n",
            "FLAG_DOCUMENT_6\n",
            "FLAG_DOCUMENT_7\n",
            "FLAG_DOCUMENT_8\n",
            "FLAG_DOCUMENT_9\n",
            "FLAG_DOCUMENT_10\n",
            "FLAG_DOCUMENT_11\n",
            "FLAG_DOCUMENT_12\n",
            "FLAG_DOCUMENT_13\n",
            "FLAG_DOCUMENT_14\n",
            "FLAG_DOCUMENT_15\n",
            "FLAG_DOCUMENT_16\n",
            "FLAG_DOCUMENT_17\n",
            "FLAG_DOCUMENT_18\n",
            "FLAG_DOCUMENT_19\n",
            "FLAG_DOCUMENT_20\n",
            "FLAG_DOCUMENT_21\n",
            "AMT_REQ_CREDIT_BUREAU_HOUR\n",
            "AMT_REQ_CREDIT_BUREAU_DAY\n",
            "AMT_REQ_CREDIT_BUREAU_WEEK\n",
            "AMT_REQ_CREDIT_BUREAU_MON\n",
            "AMT_REQ_CREDIT_BUREAU_QRT\n",
            "AMT_REQ_CREDIT_BUREAU_YEAR\n"
          ]
        }
      ]
    },
    {
      "cell_type": "code",
      "source": [
        "# delete the columns that we know they havent any effect on TARGET\n",
        "nonsense_columns = []\n",
        "if nonsense_columns:\n",
        "  df.drop(nonsense_columns, axis=1, inplace=True)"
      ],
      "metadata": {
        "id": "aUw6p2tjQ07Q"
      },
      "execution_count": null,
      "outputs": []
    },
    {
      "cell_type": "code",
      "source": [],
      "metadata": {
        "id": "_UloCzJFQ03b"
      },
      "execution_count": null,
      "outputs": []
    },
    {
      "cell_type": "markdown",
      "source": [
        "# working on categorical columns"
      ],
      "metadata": {
        "id": "wE2TK9KJEX_A"
      }
    },
    {
      "cell_type": "code",
      "source": [
        "print(\"\\033[92m\", \"categorical columns name            type of columns              first sample\" , '\\033[0m')\n",
        "print(\"-------\"*12)\n",
        "for c in df.columns:\n",
        "  print(f\"{c:30}   {str(type(df[c].iloc[0])):30}     {df[c].iloc[0]}\")"
      ],
      "metadata": {
        "id": "4MIMEGWc1npJ",
        "colab": {
          "base_uri": "https://localhost:8080/"
        },
        "outputId": "d78fe135-963c-4812-841a-2daf75f173bf"
      },
      "execution_count": null,
      "outputs": [
        {
          "output_type": "stream",
          "name": "stdout",
          "text": [
            "\u001b[92m categorical columns name            type of columns              first sample \u001b[0m\n",
            "------------------------------------------------------------------------------------\n",
            "SK_ID_CURR                       <class 'numpy.int64'>              100002\n",
            "TARGET                           <class 'numpy.int64'>              1\n",
            "NAME_CONTRACT_TYPE               <class 'str'>                      Cash loans\n",
            "CODE_GENDER                      <class 'str'>                      M\n",
            "FLAG_OWN_CAR                     <class 'str'>                      N\n",
            "FLAG_OWN_REALTY                  <class 'str'>                      Y\n",
            "CNT_CHILDREN                     <class 'numpy.int64'>              0\n",
            "AMT_INCOME_TOTAL                 <class 'numpy.float64'>            202500.0\n",
            "AMT_CREDIT                       <class 'numpy.float64'>            406597.5\n",
            "AMT_ANNUITY                      <class 'numpy.float64'>            24700.5\n",
            "AMT_GOODS_PRICE                  <class 'numpy.float64'>            351000.0\n",
            "NAME_TYPE_SUITE                  <class 'str'>                      Unaccompanied\n",
            "NAME_INCOME_TYPE                 <class 'str'>                      Working\n",
            "NAME_EDUCATION_TYPE              <class 'str'>                      Secondary / secondary special\n",
            "NAME_FAMILY_STATUS               <class 'str'>                      Single / not married\n",
            "NAME_HOUSING_TYPE                <class 'str'>                      House / apartment\n",
            "REGION_POPULATION_RELATIVE       <class 'numpy.float64'>            0.018801\n",
            "DAYS_BIRTH                       <class 'numpy.int64'>              -9461\n",
            "DAYS_EMPLOYED                    <class 'numpy.int64'>              -637\n",
            "DAYS_REGISTRATION                <class 'numpy.float64'>            -3648.0\n",
            "DAYS_ID_PUBLISH                  <class 'numpy.int64'>              -2120\n",
            "FLAG_MOBIL                       <class 'numpy.int64'>              1\n",
            "FLAG_EMP_PHONE                   <class 'numpy.int64'>              1\n",
            "FLAG_WORK_PHONE                  <class 'numpy.int64'>              0\n",
            "FLAG_CONT_MOBILE                 <class 'numpy.int64'>              1\n",
            "FLAG_PHONE                       <class 'numpy.int64'>              1\n",
            "FLAG_EMAIL                       <class 'numpy.int64'>              0\n",
            "CNT_FAM_MEMBERS                  <class 'numpy.float64'>            1.0\n",
            "REGION_RATING_CLIENT             <class 'numpy.int64'>              2\n",
            "REGION_RATING_CLIENT_W_CITY      <class 'numpy.int64'>              2\n",
            "WEEKDAY_APPR_PROCESS_START       <class 'str'>                      WEDNESDAY\n",
            "HOUR_APPR_PROCESS_START          <class 'numpy.int64'>              10\n",
            "REG_REGION_NOT_LIVE_REGION       <class 'numpy.int64'>              0\n",
            "REG_REGION_NOT_WORK_REGION       <class 'numpy.int64'>              0\n",
            "LIVE_REGION_NOT_WORK_REGION      <class 'numpy.int64'>              0\n",
            "REG_CITY_NOT_LIVE_CITY           <class 'numpy.int64'>              0\n",
            "REG_CITY_NOT_WORK_CITY           <class 'numpy.int64'>              0\n",
            "LIVE_CITY_NOT_WORK_CITY          <class 'numpy.int64'>              0\n",
            "ORGANIZATION_TYPE                <class 'str'>                      Business Entity Type 3\n",
            "EXT_SOURCE_2                     <class 'numpy.float64'>            0.2629485927471776\n",
            "EXT_SOURCE_3                     <class 'numpy.float64'>            0.1393757800997895\n",
            "OBS_30_CNT_SOCIAL_CIRCLE         <class 'numpy.float64'>            2.0\n",
            "DEF_30_CNT_SOCIAL_CIRCLE         <class 'numpy.float64'>            2.0\n",
            "OBS_60_CNT_SOCIAL_CIRCLE         <class 'numpy.float64'>            2.0\n",
            "DEF_60_CNT_SOCIAL_CIRCLE         <class 'numpy.float64'>            2.0\n",
            "DAYS_LAST_PHONE_CHANGE           <class 'numpy.float64'>            -1134.0\n",
            "FLAG_DOCUMENT_2                  <class 'numpy.int64'>              0\n",
            "FLAG_DOCUMENT_3                  <class 'numpy.int64'>              1\n",
            "FLAG_DOCUMENT_4                  <class 'numpy.int64'>              0\n",
            "FLAG_DOCUMENT_5                  <class 'numpy.int64'>              0\n",
            "FLAG_DOCUMENT_6                  <class 'numpy.int64'>              0\n",
            "FLAG_DOCUMENT_7                  <class 'numpy.int64'>              0\n",
            "FLAG_DOCUMENT_8                  <class 'numpy.int64'>              0\n",
            "FLAG_DOCUMENT_9                  <class 'numpy.int64'>              0\n",
            "FLAG_DOCUMENT_10                 <class 'numpy.int64'>              0\n",
            "FLAG_DOCUMENT_11                 <class 'numpy.int64'>              0\n",
            "FLAG_DOCUMENT_12                 <class 'numpy.int64'>              0\n",
            "FLAG_DOCUMENT_13                 <class 'numpy.int64'>              0\n",
            "FLAG_DOCUMENT_14                 <class 'numpy.int64'>              0\n",
            "FLAG_DOCUMENT_15                 <class 'numpy.int64'>              0\n",
            "FLAG_DOCUMENT_16                 <class 'numpy.int64'>              0\n",
            "FLAG_DOCUMENT_17                 <class 'numpy.int64'>              0\n",
            "FLAG_DOCUMENT_18                 <class 'numpy.int64'>              0\n",
            "FLAG_DOCUMENT_19                 <class 'numpy.int64'>              0\n",
            "FLAG_DOCUMENT_20                 <class 'numpy.int64'>              0\n",
            "FLAG_DOCUMENT_21                 <class 'numpy.int64'>              0\n",
            "AMT_REQ_CREDIT_BUREAU_HOUR       <class 'numpy.float64'>            0.0\n",
            "AMT_REQ_CREDIT_BUREAU_DAY        <class 'numpy.float64'>            0.0\n",
            "AMT_REQ_CREDIT_BUREAU_WEEK       <class 'numpy.float64'>            0.0\n",
            "AMT_REQ_CREDIT_BUREAU_MON        <class 'numpy.float64'>            0.0\n",
            "AMT_REQ_CREDIT_BUREAU_QRT        <class 'numpy.float64'>            0.0\n",
            "AMT_REQ_CREDIT_BUREAU_YEAR       <class 'numpy.float64'>            1.0\n"
          ]
        }
      ]
    },
    {
      "cell_type": "code",
      "source": [
        "# unique values of categorical columns\n",
        "\n",
        "categorical_columns = []\n",
        "for c in df.columns:\n",
        "  if type(df[c].iloc[0]) == str:\n",
        "    print(c)\n",
        "    print(df[c].unique())\n",
        "    print(\"number of classes: \" ,len(df[c].unique()))\n",
        "    print(\"=========\"*10)\n",
        "    categorical_columns.append(c)"
      ],
      "metadata": {
        "colab": {
          "base_uri": "https://localhost:8080/"
        },
        "id": "6Pxo3PY9EXiK",
        "outputId": "05aceeb6-c13b-494f-e4a3-2194fad6eaa4"
      },
      "execution_count": null,
      "outputs": [
        {
          "output_type": "stream",
          "name": "stdout",
          "text": [
            "NAME_CONTRACT_TYPE\n",
            "['Cash loans' 'Revolving loans']\n",
            "number of classes:  2\n",
            "==========================================================================================\n",
            "CODE_GENDER\n",
            "['M' 'F' 'XNA']\n",
            "number of classes:  3\n",
            "==========================================================================================\n",
            "FLAG_OWN_CAR\n",
            "['N' 'Y']\n",
            "number of classes:  2\n",
            "==========================================================================================\n",
            "FLAG_OWN_REALTY\n",
            "['Y' 'N']\n",
            "number of classes:  2\n",
            "==========================================================================================\n",
            "NAME_TYPE_SUITE\n",
            "['Unaccompanied' 'Spouse, partner' 'Children' 'Family' 'Other_A' 'Other_B'\n",
            " 'Group of people']\n",
            "number of classes:  7\n",
            "==========================================================================================\n",
            "NAME_INCOME_TYPE\n",
            "['Working' 'State servant' 'Commercial associate' 'Pensioner' 'Unemployed'\n",
            " 'Student' 'Businessman']\n",
            "number of classes:  7\n",
            "==========================================================================================\n",
            "NAME_EDUCATION_TYPE\n",
            "['Secondary / secondary special' 'Higher education' 'Incomplete higher'\n",
            " 'Lower secondary' 'Academic degree']\n",
            "number of classes:  5\n",
            "==========================================================================================\n",
            "NAME_FAMILY_STATUS\n",
            "['Single / not married' 'Married' 'Widow' 'Civil marriage' 'Separated']\n",
            "number of classes:  5\n",
            "==========================================================================================\n",
            "NAME_HOUSING_TYPE\n",
            "['House / apartment' 'Rented apartment' 'Municipal apartment'\n",
            " 'With parents' 'Office apartment' 'Co-op apartment']\n",
            "number of classes:  6\n",
            "==========================================================================================\n",
            "WEEKDAY_APPR_PROCESS_START\n",
            "['WEDNESDAY' 'MONDAY' 'SUNDAY' 'SATURDAY' 'FRIDAY' 'THURSDAY' 'TUESDAY']\n",
            "number of classes:  7\n",
            "==========================================================================================\n",
            "ORGANIZATION_TYPE\n",
            "['Business Entity Type 3' 'Government' 'Other' 'XNA' 'Medicine'\n",
            " 'Business Entity Type 2' 'Self-employed' 'Housing' 'Kindergarten'\n",
            " 'Trade: type 7' 'Industry: type 11' 'Military' 'Transport: type 4'\n",
            " 'School' 'Services' 'Emergency' 'Security' 'Trade: type 2' 'University'\n",
            " 'Police' 'Construction' 'Business Entity Type 1' 'Industry: type 4'\n",
            " 'Agriculture' 'Restaurant' 'Transport: type 2' 'Hotel' 'Industry: type 7'\n",
            " 'Trade: type 3' 'Industry: type 3' 'Bank' 'Industry: type 9' 'Postal'\n",
            " 'Trade: type 6' 'Industry: type 2' 'Transport: type 1'\n",
            " 'Transport: type 3' 'Electricity' 'Industry: type 12' 'Insurance'\n",
            " 'Industry: type 1' 'Security Ministries' 'Mobile' 'Trade: type 1'\n",
            " 'Industry: type 5' 'Industry: type 10' 'Legal Services' 'Advertising'\n",
            " 'Trade: type 5' 'Cleaning' 'Industry: type 13' 'Industry: type 8'\n",
            " 'Realtor' 'Culture' 'Telecom' 'Religion' 'Industry: type 6'\n",
            " 'Trade: type 4']\n",
            "number of classes:  58\n",
            "==========================================================================================\n"
          ]
        }
      ]
    },
    {
      "cell_type": "markdown",
      "source": [
        "### OneHotEncoder"
      ],
      "metadata": {
        "id": "-XAM9KjrWh9D"
      }
    },
    {
      "cell_type": "code",
      "source": [
        "# Performing one-hot encoding on nominal features\n",
        "# import pandas as pd\n",
        "# from sklearn.preprocessing import OneHotEncoder\n",
        "\n",
        "# ohe = OneHotEncoder()\n",
        "# data = ohe.fit_transform(df)\n",
        "# df = pd.DataFrame(data.toarray(), columns=ohe.get_feature_names_out(), dtype=int)\n",
        "# df"
      ],
      "metadata": {
        "id": "gj3di1_DBwRX"
      },
      "execution_count": null,
      "outputs": []
    },
    {
      "cell_type": "code",
      "source": [
        "for c in categorical_columns:\n",
        "  for cc in df[c].unique():\n",
        "    df[c+\"_\"+cc] = (df[c] == cc).replace({True:1 , False:0}).astype(np.float64)\n",
        "  df.drop(c , axis=1, inplace=True)\n",
        "  print(c)"
      ],
      "metadata": {
        "id": "wuvDn4G0BwOl",
        "colab": {
          "base_uri": "https://localhost:8080/"
        },
        "outputId": "7c16a64b-8313-4e6d-a4aa-072328da9672"
      },
      "execution_count": null,
      "outputs": [
        {
          "output_type": "stream",
          "name": "stderr",
          "text": [
            "<ipython-input-16-a10157274571>:3: SettingWithCopyWarning: \n",
            "A value is trying to be set on a copy of a slice from a DataFrame.\n",
            "Try using .loc[row_indexer,col_indexer] = value instead\n",
            "\n",
            "See the caveats in the documentation: https://pandas.pydata.org/pandas-docs/stable/user_guide/indexing.html#returning-a-view-versus-a-copy\n",
            "  df[c+\"_\"+cc] = (df[c] == cc).replace({True:1 , False:0}).astype(np.float64)\n",
            "/usr/local/lib/python3.8/dist-packages/pandas/core/frame.py:4906: SettingWithCopyWarning: \n",
            "A value is trying to be set on a copy of a slice from a DataFrame\n",
            "\n",
            "See the caveats in the documentation: https://pandas.pydata.org/pandas-docs/stable/user_guide/indexing.html#returning-a-view-versus-a-copy\n",
            "  return super().drop(\n"
          ]
        },
        {
          "output_type": "stream",
          "name": "stdout",
          "text": [
            "NAME_CONTRACT_TYPE\n",
            "CODE_GENDER\n",
            "FLAG_OWN_CAR\n",
            "FLAG_OWN_REALTY\n",
            "NAME_TYPE_SUITE\n",
            "NAME_INCOME_TYPE\n",
            "NAME_EDUCATION_TYPE\n",
            "NAME_FAMILY_STATUS\n",
            "NAME_HOUSING_TYPE\n",
            "WEEKDAY_APPR_PROCESS_START\n",
            "ORGANIZATION_TYPE\n"
          ]
        }
      ]
    },
    {
      "cell_type": "code",
      "source": [
        "df.shape"
      ],
      "metadata": {
        "id": "QPO8GFVfVWdW",
        "colab": {
          "base_uri": "https://localhost:8080/"
        },
        "outputId": "a5446b22-77b1-462b-82dc-c037f9935e07"
      },
      "execution_count": null,
      "outputs": [
        {
          "output_type": "execute_result",
          "data": {
            "text/plain": [
              "(244280, 165)"
            ]
          },
          "metadata": {},
          "execution_count": 17
        }
      ]
    },
    {
      "cell_type": "code",
      "source": [
        "df"
      ],
      "metadata": {
        "id": "YhJmKxgdVWan",
        "colab": {
          "base_uri": "https://localhost:8080/",
          "height": 505
        },
        "outputId": "9cf34ca2-dfeb-4faa-ea28-1df1357ed5fc"
      },
      "execution_count": null,
      "outputs": [
        {
          "output_type": "execute_result",
          "data": {
            "text/plain": [
              "        SK_ID_CURR  TARGET  CNT_CHILDREN  AMT_INCOME_TOTAL  AMT_CREDIT  \\\n",
              "0           100002       1             0          202500.0    406597.5   \n",
              "2           100004       0             0           67500.0    135000.0   \n",
              "5           100008       0             0           99000.0    490495.5   \n",
              "6           100009       0             1          171000.0   1560726.0   \n",
              "7           100010       0             0          360000.0   1530000.0   \n",
              "...            ...     ...           ...               ...         ...   \n",
              "307503      456247       0             0          112500.0    345510.0   \n",
              "307505      456249       0             0          112500.0    225000.0   \n",
              "307508      456253       0             0          153000.0    677664.0   \n",
              "307509      456254       1             0          171000.0    370107.0   \n",
              "307510      456255       0             0          157500.0    675000.0   \n",
              "\n",
              "        AMT_ANNUITY  AMT_GOODS_PRICE  REGION_POPULATION_RELATIVE  DAYS_BIRTH  \\\n",
              "0           24700.5         351000.0                    0.018801       -9461   \n",
              "2            6750.0         135000.0                    0.010032      -19046   \n",
              "5           27517.5         454500.0                    0.035792      -16941   \n",
              "6           41301.0        1395000.0                    0.035792      -13778   \n",
              "7           42075.0        1530000.0                    0.003122      -18850   \n",
              "...             ...              ...                         ...         ...   \n",
              "307503      17770.5         247500.0                    0.022800      -11870   \n",
              "307505      22050.0         225000.0                    0.022800      -24384   \n",
              "307508      29979.0         585000.0                    0.005002      -14966   \n",
              "307509      20205.0         319500.0                    0.005313      -11961   \n",
              "307510      49117.5         675000.0                    0.046220      -16856   \n",
              "\n",
              "        DAYS_EMPLOYED  ...  ORGANIZATION_TYPE_Trade: type 5  \\\n",
              "0                -637  ...                              0.0   \n",
              "2                -225  ...                              0.0   \n",
              "5               -1588  ...                              0.0   \n",
              "6               -3130  ...                              0.0   \n",
              "7                -449  ...                              0.0   \n",
              "...               ...  ...                              ...   \n",
              "307503           -399  ...                              0.0   \n",
              "307505         365243  ...                              0.0   \n",
              "307508          -7921  ...                              0.0   \n",
              "307509          -4786  ...                              0.0   \n",
              "307510          -1262  ...                              0.0   \n",
              "\n",
              "        ORGANIZATION_TYPE_Cleaning  ORGANIZATION_TYPE_Industry: type 13  \\\n",
              "0                              0.0                                  0.0   \n",
              "2                              0.0                                  0.0   \n",
              "5                              0.0                                  0.0   \n",
              "6                              0.0                                  0.0   \n",
              "7                              0.0                                  0.0   \n",
              "...                            ...                                  ...   \n",
              "307503                         0.0                                  0.0   \n",
              "307505                         0.0                                  0.0   \n",
              "307508                         0.0                                  0.0   \n",
              "307509                         0.0                                  0.0   \n",
              "307510                         0.0                                  0.0   \n",
              "\n",
              "        ORGANIZATION_TYPE_Industry: type 8  ORGANIZATION_TYPE_Realtor  \\\n",
              "0                                      0.0                        0.0   \n",
              "2                                      0.0                        0.0   \n",
              "5                                      0.0                        0.0   \n",
              "6                                      0.0                        0.0   \n",
              "7                                      0.0                        0.0   \n",
              "...                                    ...                        ...   \n",
              "307503                                 0.0                        0.0   \n",
              "307505                                 0.0                        0.0   \n",
              "307508                                 0.0                        0.0   \n",
              "307509                                 0.0                        0.0   \n",
              "307510                                 0.0                        0.0   \n",
              "\n",
              "        ORGANIZATION_TYPE_Culture  ORGANIZATION_TYPE_Telecom  \\\n",
              "0                             0.0                        0.0   \n",
              "2                             0.0                        0.0   \n",
              "5                             0.0                        0.0   \n",
              "6                             0.0                        0.0   \n",
              "7                             0.0                        0.0   \n",
              "...                           ...                        ...   \n",
              "307503                        0.0                        0.0   \n",
              "307505                        0.0                        0.0   \n",
              "307508                        0.0                        0.0   \n",
              "307509                        0.0                        0.0   \n",
              "307510                        0.0                        0.0   \n",
              "\n",
              "        ORGANIZATION_TYPE_Religion  ORGANIZATION_TYPE_Industry: type 6  \\\n",
              "0                              0.0                                 0.0   \n",
              "2                              0.0                                 0.0   \n",
              "5                              0.0                                 0.0   \n",
              "6                              0.0                                 0.0   \n",
              "7                              0.0                                 0.0   \n",
              "...                            ...                                 ...   \n",
              "307503                         0.0                                 0.0   \n",
              "307505                         0.0                                 0.0   \n",
              "307508                         0.0                                 0.0   \n",
              "307509                         0.0                                 0.0   \n",
              "307510                         0.0                                 0.0   \n",
              "\n",
              "        ORGANIZATION_TYPE_Trade: type 4  \n",
              "0                                   0.0  \n",
              "2                                   0.0  \n",
              "5                                   0.0  \n",
              "6                                   0.0  \n",
              "7                                   0.0  \n",
              "...                                 ...  \n",
              "307503                              0.0  \n",
              "307505                              0.0  \n",
              "307508                              0.0  \n",
              "307509                              0.0  \n",
              "307510                              0.0  \n",
              "\n",
              "[244280 rows x 165 columns]"
            ],
            "text/html": [
              "\n",
              "  <div id=\"df-1fd772ac-0b74-49ed-aeda-17814e5d926a\">\n",
              "    <div class=\"colab-df-container\">\n",
              "      <div>\n",
              "<style scoped>\n",
              "    .dataframe tbody tr th:only-of-type {\n",
              "        vertical-align: middle;\n",
              "    }\n",
              "\n",
              "    .dataframe tbody tr th {\n",
              "        vertical-align: top;\n",
              "    }\n",
              "\n",
              "    .dataframe thead th {\n",
              "        text-align: right;\n",
              "    }\n",
              "</style>\n",
              "<table border=\"1\" class=\"dataframe\">\n",
              "  <thead>\n",
              "    <tr style=\"text-align: right;\">\n",
              "      <th></th>\n",
              "      <th>SK_ID_CURR</th>\n",
              "      <th>TARGET</th>\n",
              "      <th>CNT_CHILDREN</th>\n",
              "      <th>AMT_INCOME_TOTAL</th>\n",
              "      <th>AMT_CREDIT</th>\n",
              "      <th>AMT_ANNUITY</th>\n",
              "      <th>AMT_GOODS_PRICE</th>\n",
              "      <th>REGION_POPULATION_RELATIVE</th>\n",
              "      <th>DAYS_BIRTH</th>\n",
              "      <th>DAYS_EMPLOYED</th>\n",
              "      <th>...</th>\n",
              "      <th>ORGANIZATION_TYPE_Trade: type 5</th>\n",
              "      <th>ORGANIZATION_TYPE_Cleaning</th>\n",
              "      <th>ORGANIZATION_TYPE_Industry: type 13</th>\n",
              "      <th>ORGANIZATION_TYPE_Industry: type 8</th>\n",
              "      <th>ORGANIZATION_TYPE_Realtor</th>\n",
              "      <th>ORGANIZATION_TYPE_Culture</th>\n",
              "      <th>ORGANIZATION_TYPE_Telecom</th>\n",
              "      <th>ORGANIZATION_TYPE_Religion</th>\n",
              "      <th>ORGANIZATION_TYPE_Industry: type 6</th>\n",
              "      <th>ORGANIZATION_TYPE_Trade: type 4</th>\n",
              "    </tr>\n",
              "  </thead>\n",
              "  <tbody>\n",
              "    <tr>\n",
              "      <th>0</th>\n",
              "      <td>100002</td>\n",
              "      <td>1</td>\n",
              "      <td>0</td>\n",
              "      <td>202500.0</td>\n",
              "      <td>406597.5</td>\n",
              "      <td>24700.5</td>\n",
              "      <td>351000.0</td>\n",
              "      <td>0.018801</td>\n",
              "      <td>-9461</td>\n",
              "      <td>-637</td>\n",
              "      <td>...</td>\n",
              "      <td>0.0</td>\n",
              "      <td>0.0</td>\n",
              "      <td>0.0</td>\n",
              "      <td>0.0</td>\n",
              "      <td>0.0</td>\n",
              "      <td>0.0</td>\n",
              "      <td>0.0</td>\n",
              "      <td>0.0</td>\n",
              "      <td>0.0</td>\n",
              "      <td>0.0</td>\n",
              "    </tr>\n",
              "    <tr>\n",
              "      <th>2</th>\n",
              "      <td>100004</td>\n",
              "      <td>0</td>\n",
              "      <td>0</td>\n",
              "      <td>67500.0</td>\n",
              "      <td>135000.0</td>\n",
              "      <td>6750.0</td>\n",
              "      <td>135000.0</td>\n",
              "      <td>0.010032</td>\n",
              "      <td>-19046</td>\n",
              "      <td>-225</td>\n",
              "      <td>...</td>\n",
              "      <td>0.0</td>\n",
              "      <td>0.0</td>\n",
              "      <td>0.0</td>\n",
              "      <td>0.0</td>\n",
              "      <td>0.0</td>\n",
              "      <td>0.0</td>\n",
              "      <td>0.0</td>\n",
              "      <td>0.0</td>\n",
              "      <td>0.0</td>\n",
              "      <td>0.0</td>\n",
              "    </tr>\n",
              "    <tr>\n",
              "      <th>5</th>\n",
              "      <td>100008</td>\n",
              "      <td>0</td>\n",
              "      <td>0</td>\n",
              "      <td>99000.0</td>\n",
              "      <td>490495.5</td>\n",
              "      <td>27517.5</td>\n",
              "      <td>454500.0</td>\n",
              "      <td>0.035792</td>\n",
              "      <td>-16941</td>\n",
              "      <td>-1588</td>\n",
              "      <td>...</td>\n",
              "      <td>0.0</td>\n",
              "      <td>0.0</td>\n",
              "      <td>0.0</td>\n",
              "      <td>0.0</td>\n",
              "      <td>0.0</td>\n",
              "      <td>0.0</td>\n",
              "      <td>0.0</td>\n",
              "      <td>0.0</td>\n",
              "      <td>0.0</td>\n",
              "      <td>0.0</td>\n",
              "    </tr>\n",
              "    <tr>\n",
              "      <th>6</th>\n",
              "      <td>100009</td>\n",
              "      <td>0</td>\n",
              "      <td>1</td>\n",
              "      <td>171000.0</td>\n",
              "      <td>1560726.0</td>\n",
              "      <td>41301.0</td>\n",
              "      <td>1395000.0</td>\n",
              "      <td>0.035792</td>\n",
              "      <td>-13778</td>\n",
              "      <td>-3130</td>\n",
              "      <td>...</td>\n",
              "      <td>0.0</td>\n",
              "      <td>0.0</td>\n",
              "      <td>0.0</td>\n",
              "      <td>0.0</td>\n",
              "      <td>0.0</td>\n",
              "      <td>0.0</td>\n",
              "      <td>0.0</td>\n",
              "      <td>0.0</td>\n",
              "      <td>0.0</td>\n",
              "      <td>0.0</td>\n",
              "    </tr>\n",
              "    <tr>\n",
              "      <th>7</th>\n",
              "      <td>100010</td>\n",
              "      <td>0</td>\n",
              "      <td>0</td>\n",
              "      <td>360000.0</td>\n",
              "      <td>1530000.0</td>\n",
              "      <td>42075.0</td>\n",
              "      <td>1530000.0</td>\n",
              "      <td>0.003122</td>\n",
              "      <td>-18850</td>\n",
              "      <td>-449</td>\n",
              "      <td>...</td>\n",
              "      <td>0.0</td>\n",
              "      <td>0.0</td>\n",
              "      <td>0.0</td>\n",
              "      <td>0.0</td>\n",
              "      <td>0.0</td>\n",
              "      <td>0.0</td>\n",
              "      <td>0.0</td>\n",
              "      <td>0.0</td>\n",
              "      <td>0.0</td>\n",
              "      <td>0.0</td>\n",
              "    </tr>\n",
              "    <tr>\n",
              "      <th>...</th>\n",
              "      <td>...</td>\n",
              "      <td>...</td>\n",
              "      <td>...</td>\n",
              "      <td>...</td>\n",
              "      <td>...</td>\n",
              "      <td>...</td>\n",
              "      <td>...</td>\n",
              "      <td>...</td>\n",
              "      <td>...</td>\n",
              "      <td>...</td>\n",
              "      <td>...</td>\n",
              "      <td>...</td>\n",
              "      <td>...</td>\n",
              "      <td>...</td>\n",
              "      <td>...</td>\n",
              "      <td>...</td>\n",
              "      <td>...</td>\n",
              "      <td>...</td>\n",
              "      <td>...</td>\n",
              "      <td>...</td>\n",
              "      <td>...</td>\n",
              "    </tr>\n",
              "    <tr>\n",
              "      <th>307503</th>\n",
              "      <td>456247</td>\n",
              "      <td>0</td>\n",
              "      <td>0</td>\n",
              "      <td>112500.0</td>\n",
              "      <td>345510.0</td>\n",
              "      <td>17770.5</td>\n",
              "      <td>247500.0</td>\n",
              "      <td>0.022800</td>\n",
              "      <td>-11870</td>\n",
              "      <td>-399</td>\n",
              "      <td>...</td>\n",
              "      <td>0.0</td>\n",
              "      <td>0.0</td>\n",
              "      <td>0.0</td>\n",
              "      <td>0.0</td>\n",
              "      <td>0.0</td>\n",
              "      <td>0.0</td>\n",
              "      <td>0.0</td>\n",
              "      <td>0.0</td>\n",
              "      <td>0.0</td>\n",
              "      <td>0.0</td>\n",
              "    </tr>\n",
              "    <tr>\n",
              "      <th>307505</th>\n",
              "      <td>456249</td>\n",
              "      <td>0</td>\n",
              "      <td>0</td>\n",
              "      <td>112500.0</td>\n",
              "      <td>225000.0</td>\n",
              "      <td>22050.0</td>\n",
              "      <td>225000.0</td>\n",
              "      <td>0.022800</td>\n",
              "      <td>-24384</td>\n",
              "      <td>365243</td>\n",
              "      <td>...</td>\n",
              "      <td>0.0</td>\n",
              "      <td>0.0</td>\n",
              "      <td>0.0</td>\n",
              "      <td>0.0</td>\n",
              "      <td>0.0</td>\n",
              "      <td>0.0</td>\n",
              "      <td>0.0</td>\n",
              "      <td>0.0</td>\n",
              "      <td>0.0</td>\n",
              "      <td>0.0</td>\n",
              "    </tr>\n",
              "    <tr>\n",
              "      <th>307508</th>\n",
              "      <td>456253</td>\n",
              "      <td>0</td>\n",
              "      <td>0</td>\n",
              "      <td>153000.0</td>\n",
              "      <td>677664.0</td>\n",
              "      <td>29979.0</td>\n",
              "      <td>585000.0</td>\n",
              "      <td>0.005002</td>\n",
              "      <td>-14966</td>\n",
              "      <td>-7921</td>\n",
              "      <td>...</td>\n",
              "      <td>0.0</td>\n",
              "      <td>0.0</td>\n",
              "      <td>0.0</td>\n",
              "      <td>0.0</td>\n",
              "      <td>0.0</td>\n",
              "      <td>0.0</td>\n",
              "      <td>0.0</td>\n",
              "      <td>0.0</td>\n",
              "      <td>0.0</td>\n",
              "      <td>0.0</td>\n",
              "    </tr>\n",
              "    <tr>\n",
              "      <th>307509</th>\n",
              "      <td>456254</td>\n",
              "      <td>1</td>\n",
              "      <td>0</td>\n",
              "      <td>171000.0</td>\n",
              "      <td>370107.0</td>\n",
              "      <td>20205.0</td>\n",
              "      <td>319500.0</td>\n",
              "      <td>0.005313</td>\n",
              "      <td>-11961</td>\n",
              "      <td>-4786</td>\n",
              "      <td>...</td>\n",
              "      <td>0.0</td>\n",
              "      <td>0.0</td>\n",
              "      <td>0.0</td>\n",
              "      <td>0.0</td>\n",
              "      <td>0.0</td>\n",
              "      <td>0.0</td>\n",
              "      <td>0.0</td>\n",
              "      <td>0.0</td>\n",
              "      <td>0.0</td>\n",
              "      <td>0.0</td>\n",
              "    </tr>\n",
              "    <tr>\n",
              "      <th>307510</th>\n",
              "      <td>456255</td>\n",
              "      <td>0</td>\n",
              "      <td>0</td>\n",
              "      <td>157500.0</td>\n",
              "      <td>675000.0</td>\n",
              "      <td>49117.5</td>\n",
              "      <td>675000.0</td>\n",
              "      <td>0.046220</td>\n",
              "      <td>-16856</td>\n",
              "      <td>-1262</td>\n",
              "      <td>...</td>\n",
              "      <td>0.0</td>\n",
              "      <td>0.0</td>\n",
              "      <td>0.0</td>\n",
              "      <td>0.0</td>\n",
              "      <td>0.0</td>\n",
              "      <td>0.0</td>\n",
              "      <td>0.0</td>\n",
              "      <td>0.0</td>\n",
              "      <td>0.0</td>\n",
              "      <td>0.0</td>\n",
              "    </tr>\n",
              "  </tbody>\n",
              "</table>\n",
              "<p>244280 rows × 165 columns</p>\n",
              "</div>\n",
              "      <button class=\"colab-df-convert\" onclick=\"convertToInteractive('df-1fd772ac-0b74-49ed-aeda-17814e5d926a')\"\n",
              "              title=\"Convert this dataframe to an interactive table.\"\n",
              "              style=\"display:none;\">\n",
              "        \n",
              "  <svg xmlns=\"http://www.w3.org/2000/svg\" height=\"24px\"viewBox=\"0 0 24 24\"\n",
              "       width=\"24px\">\n",
              "    <path d=\"M0 0h24v24H0V0z\" fill=\"none\"/>\n",
              "    <path d=\"M18.56 5.44l.94 2.06.94-2.06 2.06-.94-2.06-.94-.94-2.06-.94 2.06-2.06.94zm-11 1L8.5 8.5l.94-2.06 2.06-.94-2.06-.94L8.5 2.5l-.94 2.06-2.06.94zm10 10l.94 2.06.94-2.06 2.06-.94-2.06-.94-.94-2.06-.94 2.06-2.06.94z\"/><path d=\"M17.41 7.96l-1.37-1.37c-.4-.4-.92-.59-1.43-.59-.52 0-1.04.2-1.43.59L10.3 9.45l-7.72 7.72c-.78.78-.78 2.05 0 2.83L4 21.41c.39.39.9.59 1.41.59.51 0 1.02-.2 1.41-.59l7.78-7.78 2.81-2.81c.8-.78.8-2.07 0-2.86zM5.41 20L4 18.59l7.72-7.72 1.47 1.35L5.41 20z\"/>\n",
              "  </svg>\n",
              "      </button>\n",
              "      \n",
              "  <style>\n",
              "    .colab-df-container {\n",
              "      display:flex;\n",
              "      flex-wrap:wrap;\n",
              "      gap: 12px;\n",
              "    }\n",
              "\n",
              "    .colab-df-convert {\n",
              "      background-color: #E8F0FE;\n",
              "      border: none;\n",
              "      border-radius: 50%;\n",
              "      cursor: pointer;\n",
              "      display: none;\n",
              "      fill: #1967D2;\n",
              "      height: 32px;\n",
              "      padding: 0 0 0 0;\n",
              "      width: 32px;\n",
              "    }\n",
              "\n",
              "    .colab-df-convert:hover {\n",
              "      background-color: #E2EBFA;\n",
              "      box-shadow: 0px 1px 2px rgba(60, 64, 67, 0.3), 0px 1px 3px 1px rgba(60, 64, 67, 0.15);\n",
              "      fill: #174EA6;\n",
              "    }\n",
              "\n",
              "    [theme=dark] .colab-df-convert {\n",
              "      background-color: #3B4455;\n",
              "      fill: #D2E3FC;\n",
              "    }\n",
              "\n",
              "    [theme=dark] .colab-df-convert:hover {\n",
              "      background-color: #434B5C;\n",
              "      box-shadow: 0px 1px 3px 1px rgba(0, 0, 0, 0.15);\n",
              "      filter: drop-shadow(0px 1px 2px rgba(0, 0, 0, 0.3));\n",
              "      fill: #FFFFFF;\n",
              "    }\n",
              "  </style>\n",
              "\n",
              "      <script>\n",
              "        const buttonEl =\n",
              "          document.querySelector('#df-1fd772ac-0b74-49ed-aeda-17814e5d926a button.colab-df-convert');\n",
              "        buttonEl.style.display =\n",
              "          google.colab.kernel.accessAllowed ? 'block' : 'none';\n",
              "\n",
              "        async function convertToInteractive(key) {\n",
              "          const element = document.querySelector('#df-1fd772ac-0b74-49ed-aeda-17814e5d926a');\n",
              "          const dataTable =\n",
              "            await google.colab.kernel.invokeFunction('convertToInteractive',\n",
              "                                                     [key], {});\n",
              "          if (!dataTable) return;\n",
              "\n",
              "          const docLinkHtml = 'Like what you see? Visit the ' +\n",
              "            '<a target=\"_blank\" href=https://colab.research.google.com/notebooks/data_table.ipynb>data table notebook</a>'\n",
              "            + ' to learn more about interactive tables.';\n",
              "          element.innerHTML = '';\n",
              "          dataTable['output_type'] = 'display_data';\n",
              "          await google.colab.output.renderOutput(dataTable, element);\n",
              "          const docLink = document.createElement('div');\n",
              "          docLink.innerHTML = docLinkHtml;\n",
              "          element.appendChild(docLink);\n",
              "        }\n",
              "      </script>\n",
              "    </div>\n",
              "  </div>\n",
              "  "
            ]
          },
          "metadata": {},
          "execution_count": 20
        }
      ]
    },
    {
      "cell_type": "code",
      "source": [],
      "metadata": {
        "id": "aw_wB_J9xPkV"
      },
      "execution_count": null,
      "outputs": []
    },
    {
      "cell_type": "markdown",
      "source": [
        "## Feature selection using Random Forest"
      ],
      "metadata": {
        "id": "zZHsU_wxBBC2"
      }
    },
    {
      "cell_type": "code",
      "source": [
        "import numpy as np\n",
        "from sklearn.ensemble import RandomForestRegressor\n",
        "from sklearn.model_selection import train_test_split\n",
        "from sklearn.feature_selection import RFECV\n",
        "import matplotlib.pyplot as plt"
      ],
      "metadata": {
        "id": "g3GYgPeXVWX4"
      },
      "execution_count": null,
      "outputs": []
    },
    {
      "cell_type": "code",
      "source": [
        "X = df.loc[:, df.columns != \"TARGET\"].values\n",
        "y = df[\"TARGET\"].values"
      ],
      "metadata": {
        "id": "eqZQb8mdVWVI"
      },
      "execution_count": null,
      "outputs": []
    },
    {
      "cell_type": "code",
      "source": [
        "X_train, X_test, y_train, y_test = train_test_split( X, y, test_size=0.3, random_state=123)"
      ],
      "metadata": {
        "id": "Dg4Jy-5hBwMA"
      },
      "execution_count": null,
      "outputs": []
    },
    {
      "cell_type": "code",
      "source": [
        "%%time\n",
        "rf = RandomForestRegressor(random_state=0)\n",
        "\n",
        "rf.fit(X_train,y_train)"
      ],
      "metadata": {
        "colab": {
          "base_uri": "https://localhost:8080/"
        },
        "id": "YKtmd3iXBwI-",
        "outputId": "34529821-e8b1-4265-dfb5-1a984bc540c7"
      },
      "execution_count": null,
      "outputs": [
        {
          "output_type": "stream",
          "name": "stdout",
          "text": [
            "CPU times: user 8min 7s, sys: 452 ms, total: 8min 7s\n",
            "Wall time: 8min 12s\n"
          ]
        },
        {
          "output_type": "execute_result",
          "data": {
            "text/plain": [
              "RandomForestRegressor(random_state=0)"
            ]
          },
          "metadata": {},
          "execution_count": 24
        }
      ]
    },
    {
      "cell_type": "code",
      "source": [
        "cols = list(df.columns)\n",
        "cols.remove(\"TARGET\")\n",
        "features = cols\n",
        "\n",
        "f_i = list(zip(features,rf.feature_importances_))\n",
        "f_i.sort(key = lambda x : x[1])\n",
        "plt.figure(figsize=(8,30))\n",
        "plt.barh([x[0] for x in f_i],[x[1] for x in f_i])\n",
        "\n",
        "plt.show()"
      ],
      "metadata": {
        "colab": {
          "base_uri": "https://localhost:8080/",
          "height": 1000
        },
        "id": "TNkhxXGFDi1c",
        "outputId": "6888712e-df07-48e9-e36a-96db5105678e"
      },
      "execution_count": null,
      "outputs": [
        {
          "output_type": "display_data",
          "data": {
            "text/plain": [
              "<Figure size 576x2160 with 1 Axes>"
            ],
            "image/png": "[encoded data removed]"
          },
          "metadata": {
            "needs_background": "light"
          }
        }
      ]
    },
    {
      "cell_type": "code",
      "source": [
        "selected_features = []\n",
        "\n",
        "for f ,v in zip(features,rf.feature_importances_):\n",
        "  if v > 0.003:\n",
        "    print(f)\n",
        "    selected_features.append(f)"
      ],
      "metadata": {
        "id": "3J7ryTOwDixB",
        "colab": {
          "base_uri": "https://localhost:8080/"
        },
        "outputId": "ceb2e8cb-72a9-431e-f964-31ff7500b608"
      },
      "execution_count": null,
      "outputs": [
        {
          "output_type": "stream",
          "name": "stdout",
          "text": [
            "SK_ID_CURR\n",
            "CNT_CHILDREN\n",
            "AMT_INCOME_TOTAL\n",
            "AMT_CREDIT\n",
            "AMT_ANNUITY\n",
            "AMT_GOODS_PRICE\n",
            "REGION_POPULATION_RELATIVE\n",
            "DAYS_BIRTH\n",
            "DAYS_EMPLOYED\n",
            "DAYS_REGISTRATION\n",
            "DAYS_ID_PUBLISH\n",
            "FLAG_WORK_PHONE\n",
            "FLAG_PHONE\n",
            "CNT_FAM_MEMBERS\n",
            "REGION_RATING_CLIENT\n",
            "REGION_RATING_CLIENT_W_CITY\n",
            "HOUR_APPR_PROCESS_START\n",
            "REG_CITY_NOT_LIVE_CITY\n",
            "REG_CITY_NOT_WORK_CITY\n",
            "LIVE_CITY_NOT_WORK_CITY\n",
            "EXT_SOURCE_2\n",
            "EXT_SOURCE_3\n",
            "OBS_30_CNT_SOCIAL_CIRCLE\n",
            "DEF_30_CNT_SOCIAL_CIRCLE\n",
            "OBS_60_CNT_SOCIAL_CIRCLE\n",
            "DEF_60_CNT_SOCIAL_CIRCLE\n",
            "DAYS_LAST_PHONE_CHANGE\n",
            "FLAG_DOCUMENT_3\n",
            "AMT_REQ_CREDIT_BUREAU_WEEK\n",
            "AMT_REQ_CREDIT_BUREAU_MON\n",
            "AMT_REQ_CREDIT_BUREAU_QRT\n",
            "AMT_REQ_CREDIT_BUREAU_YEAR\n",
            "CODE_GENDER_M\n",
            "CODE_GENDER_F\n",
            "FLAG_OWN_CAR_N\n",
            "FLAG_OWN_CAR_Y\n",
            "FLAG_OWN_REALTY_Y\n",
            "FLAG_OWN_REALTY_N\n",
            "NAME_TYPE_SUITE_Family\n",
            "NAME_INCOME_TYPE_Working\n",
            "NAME_INCOME_TYPE_Commercial associate\n",
            "NAME_EDUCATION_TYPE_Secondary / secondary special\n",
            "NAME_EDUCATION_TYPE_Higher education\n",
            "NAME_FAMILY_STATUS_Single / not married\n",
            "NAME_FAMILY_STATUS_Married\n",
            "NAME_FAMILY_STATUS_Civil marriage\n",
            "NAME_FAMILY_STATUS_Separated\n",
            "WEEKDAY_APPR_PROCESS_START_WEDNESDAY\n",
            "WEEKDAY_APPR_PROCESS_START_MONDAY\n",
            "WEEKDAY_APPR_PROCESS_START_SATURDAY\n",
            "WEEKDAY_APPR_PROCESS_START_FRIDAY\n",
            "WEEKDAY_APPR_PROCESS_START_THURSDAY\n",
            "WEEKDAY_APPR_PROCESS_START_TUESDAY\n",
            "ORGANIZATION_TYPE_Business Entity Type 3\n",
            "ORGANIZATION_TYPE_Other\n",
            "ORGANIZATION_TYPE_Business Entity Type 2\n",
            "ORGANIZATION_TYPE_Self-employed\n",
            "ORGANIZATION_TYPE_Construction\n"
          ]
        }
      ]
    },
    {
      "cell_type": "code",
      "source": [
        "len(selected_features)"
      ],
      "metadata": {
        "id": "lLNRdZU9DiuI",
        "colab": {
          "base_uri": "https://localhost:8080/"
        },
        "outputId": "1eb00137-75fe-4d06-9f3d-ff99576a7615"
      },
      "execution_count": null,
      "outputs": [
        {
          "output_type": "execute_result",
          "data": {
            "text/plain": [
              "58"
            ]
          },
          "metadata": {},
          "execution_count": 32
        }
      ]
    },
    {
      "cell_type": "code",
      "source": [
        "X = df[selected_features].values"
      ],
      "metadata": {
        "id": "XLqVeJNFDirU"
      },
      "execution_count": null,
      "outputs": []
    },
    {
      "cell_type": "code",
      "source": [],
      "metadata": {
        "id": "hFFWZg60DioY"
      },
      "execution_count": null,
      "outputs": []
    },
    {
      "cell_type": "code",
      "source": [],
      "metadata": {
        "id": "kBz5PvunDiiM"
      },
      "execution_count": null,
      "outputs": []
    },
    {
      "cell_type": "code",
      "source": [],
      "metadata": {
        "id": "WzvFw9LtBwGS"
      },
      "execution_count": null,
      "outputs": []
    },
    {
      "cell_type": "markdown",
      "source": [
        "scaling the data"
      ],
      "metadata": {
        "id": "BiF90mGk26iu"
      }
    },
    {
      "cell_type": "code",
      "source": [
        "import tensorflow\n",
        "from keras.datasets import fashion_mnist\n",
        "from tensorflow.keras.models import Sequential\n",
        "from tensorflow.keras.layers import Dense\n",
        "from tensorflow.keras.utils import to_categorical"
      ],
      "metadata": {
        "id": "ThA9vo5wuYqq"
      },
      "execution_count": null,
      "outputs": []
    },
    {
      "cell_type": "code",
      "source": [
        "from sklearn.model_selection import train_test_split\n",
        "\n",
        "X_train, X_test, y_train, y_test = train_test_split(X, y, test_size=0.3,stratify=y,random_state=123)"
      ],
      "metadata": {
        "id": "Zw3ETccNBwEB"
      },
      "execution_count": null,
      "outputs": []
    },
    {
      "cell_type": "code",
      "source": [
        "# standardize the features\n",
        "from sklearn.preprocessing import StandardScaler\n",
        "sc = StandardScaler()\n",
        "X_train_std = sc.fit_transform(X_train)\n",
        "X_test_std = sc.transform(X_test)"
      ],
      "metadata": {
        "id": "9D2xdnJvBwA8"
      },
      "execution_count": null,
      "outputs": []
    },
    {
      "cell_type": "code",
      "source": [
        "feature_vector_length = X_train_std.shape[1]\n",
        "\n",
        "# Set the input shape\n",
        "input_shape = (feature_vector_length,)\n",
        "print(f'Feature shape: {input_shape}')\n",
        "\n",
        "# Create the model\n",
        "model_mlp = Sequential()\n",
        "model_mlp.add(Dense(50, input_shape=input_shape, activation='relu'))\n",
        "# model.add(Dense(80, activation='tanh'))\n",
        "# model.add(Dense(50, activation='tanh'))\n",
        "model_mlp.add(Dense(30, activation='relu'))\n",
        "model_mlp.add(Dense(1, activation='sigmoid'))\n",
        "\n",
        "# Configure the model and start training\n",
        "model_mlp.compile(optimizer = 'adam',loss = 'binary_crossentropy', metrics = ['accuracy'])\n",
        "\n",
        "import time\n",
        "start_time = time.time()\n",
        "\n",
        "\n",
        "callback = tf.keras.callbacks.EarlyStopping(monitor=\"val_loss\",min_delta=0.001, patience=5)\n",
        "\n",
        "history = model_mlp.fit(X_train_std, y_train, batch_size=64, epochs=20,callbacks=[callback] ,\n",
        "                    verbose=1, shuffle=True ,validation_split=0.1)\n",
        "\n",
        "print()\n",
        "print(\"--- %s seconds ---\" % (time.time() - start_time))"
      ],
      "metadata": {
        "id": "wyKFBX7-Bv-J",
        "colab": {
          "base_uri": "https://localhost:8080/"
        },
        "outputId": "c2ee382c-e9f0-45d0-ac7b-cd4f738343cc"
      },
      "execution_count": null,
      "outputs": [
        {
          "output_type": "stream",
          "name": "stdout",
          "text": [
            "Feature shape: (58,)\n",
            "Epoch 1/20\n",
            "2405/2405 [==============================] - 10s 3ms/step - loss: 0.2536 - accuracy: 0.9213 - val_loss: 0.2458 - val_accuracy: 0.9229\n",
            "Epoch 2/20\n",
            "2405/2405 [==============================] - 7s 3ms/step - loss: 0.2453 - accuracy: 0.9220 - val_loss: 0.2452 - val_accuracy: 0.9229\n",
            "Epoch 3/20\n",
            "2405/2405 [==============================] - 7s 3ms/step - loss: 0.2433 - accuracy: 0.9220 - val_loss: 0.2450 - val_accuracy: 0.9229\n",
            "Epoch 4/20\n",
            "2405/2405 [==============================] - 7s 3ms/step - loss: 0.2420 - accuracy: 0.9222 - val_loss: 0.2462 - val_accuracy: 0.9228\n",
            "Epoch 5/20\n",
            "2405/2405 [==============================] - 7s 3ms/step - loss: 0.2408 - accuracy: 0.9223 - val_loss: 0.2459 - val_accuracy: 0.9229\n",
            "Epoch 6/20\n",
            "2405/2405 [==============================] - 7s 3ms/step - loss: 0.2397 - accuracy: 0.9224 - val_loss: 0.2442 - val_accuracy: 0.9230\n",
            "Epoch 7/20\n",
            "2405/2405 [==============================] - 7s 3ms/step - loss: 0.2388 - accuracy: 0.9224 - val_loss: 0.2448 - val_accuracy: 0.9231\n",
            "Epoch 8/20\n",
            "2405/2405 [==============================] - 7s 3ms/step - loss: 0.2378 - accuracy: 0.9226 - val_loss: 0.2464 - val_accuracy: 0.9230\n",
            "Epoch 9/20\n",
            "2405/2405 [==============================] - 7s 3ms/step - loss: 0.2369 - accuracy: 0.9227 - val_loss: 0.2453 - val_accuracy: 0.9233\n",
            "Epoch 10/20\n",
            "2405/2405 [==============================] - 7s 3ms/step - loss: 0.2363 - accuracy: 0.9229 - val_loss: 0.2450 - val_accuracy: 0.9228\n",
            "Epoch 11/20\n",
            "2405/2405 [==============================] - 7s 3ms/step - loss: 0.2354 - accuracy: 0.9228 - val_loss: 0.2460 - val_accuracy: 0.9230\n",
            "\n",
            "--- 79.19283819198608 seconds ---\n"
          ]
        }
      ]
    },
    {
      "cell_type": "code",
      "source": [
        "# Test, Loss and accuracy\n",
        "loss_and_metrics = model_mlp.evaluate(X_test_std, y_test)\n",
        "print('Loss = ',loss_and_metrics[0])\n",
        "print('Accuracy = ',loss_and_metrics[1])"
      ],
      "metadata": {
        "id": "USE-ZKiwBv7T",
        "colab": {
          "base_uri": "https://localhost:8080/"
        },
        "outputId": "46af870d-3e7e-456e-b10e-dadfeb52c093"
      },
      "execution_count": null,
      "outputs": [
        {
          "output_type": "stream",
          "name": "stdout",
          "text": [
            "2291/2291 [==============================] - 5s 2ms/step - loss: 0.2472 - accuracy: 0.9215\n",
            "Loss =  0.24723784625530243\n",
            "Accuracy =  0.9215244650840759\n"
          ]
        }
      ]
    },
    {
      "cell_type": "code",
      "source": [],
      "metadata": {
        "id": "4Isf_3QmBv4b"
      },
      "execution_count": null,
      "outputs": []
    },
    {
      "cell_type": "markdown",
      "source": [
        "## class_weight"
      ],
      "metadata": {
        "id": "zYGsGqFE3eqz"
      }
    },
    {
      "cell_type": "code",
      "source": [],
      "metadata": {
        "id": "ORnhyTqD1CME"
      },
      "execution_count": null,
      "outputs": []
    },
    {
      "cell_type": "code",
      "source": [],
      "metadata": {
        "id": "6w50NPjs1CJW"
      },
      "execution_count": null,
      "outputs": []
    },
    {
      "cell_type": "code",
      "source": [],
      "metadata": {
        "id": "pwHsIhGu3x7F"
      },
      "execution_count": null,
      "outputs": []
    },
    {
      "cell_type": "markdown",
      "source": [
        "## precision , recall , f1_score , confusion matrix"
      ],
      "metadata": {
        "id": "IIscv_ef3zFZ"
      }
    },
    {
      "cell_type": "code",
      "source": [
        "from sklearn.metrics import precision_score\n",
        "from sklearn.metrics import recall_score, f1_score\n",
        "\n",
        "y_pred = (model_mlp.predict(X_test_std) > 0.5).astype(\"int32\")\n",
        "\n",
        "print('Precision: %.3f' % precision_score( y_true=y_test, y_pred=y_pred ,  average='macro'))\n",
        "\n",
        "print('Recall: %.3f' % recall_score(y_true=y_test, y_pred=y_pred ,  average='macro'))\n",
        "\n",
        "print('F1: %.3f' % f1_score(y_true=y_test, y_pred=y_pred ,  average='macro'))"
      ],
      "metadata": {
        "colab": {
          "base_uri": "https://localhost:8080/"
        },
        "id": "-XoOYnDf1CHu",
        "outputId": "983ab640-7df5-4ff0-83b9-906529773912"
      },
      "execution_count": null,
      "outputs": [
        {
          "output_type": "stream",
          "name": "stdout",
          "text": [
            "2291/2291 [==============================] - 3s 1ms/step\n",
            "Precision: 0.668\n",
            "Recall: 0.508\n",
            "F1: 0.496\n"
          ]
        }
      ]
    },
    {
      "cell_type": "code",
      "source": [],
      "metadata": {
        "id": "TXaZXsf8JvWj"
      },
      "execution_count": null,
      "outputs": []
    },
    {
      "cell_type": "markdown",
      "source": [
        "### confusion_matrix"
      ],
      "metadata": {
        "id": "_A_9u1Vl9-3a"
      }
    },
    {
      "cell_type": "code",
      "source": [
        "from sklearn.metrics import confusion_matrix\n",
        "import matplotlib.pyplot as plt\n",
        "import seaborn as sns\n",
        "\n",
        "conf_mat = confusion_matrix(y_test, y_pred)\n",
        "\n",
        "plt.figure(figsize = (10,8))\n",
        "sns.heatmap(conf_mat, linewidths = 0.1, cmap = 'Greens', linecolor = 'gray', \n",
        "            fmt = '.1f', annot = True)\n",
        "plt.xlabel('Predicted classes', fontsize = 20)\n",
        "plt.ylabel('True classes', fontsize = 20)"
      ],
      "metadata": {
        "colab": {
          "base_uri": "https://localhost:8080/",
          "height": 524
        },
        "id": "9AfQIsuH1CBU",
        "outputId": "cb0bbcb5-4dc4-4d5d-b8a0-4aae36a21837"
      },
      "execution_count": null,
      "outputs": [
        {
          "output_type": "execute_result",
          "data": {
            "text/plain": [
              "Text(69.0, 0.5, 'True classes')"
            ]
          },
          "metadata": {},
          "execution_count": 39
        },
        {
          "output_type": "display_data",
          "data": {
            "text/plain": [
              "<Figure size 720x576 with 2 Axes>"
            ],
            "image/png": "[encoded data removed]"
          },
          "metadata": {
            "needs_background": "light"
          }
        }
      ]
    },
    {
      "cell_type": "code",
      "source": [],
      "metadata": {
        "id": "BSCoIFgj1B-t"
      },
      "execution_count": null,
      "outputs": []
    },
    {
      "cell_type": "code",
      "source": [
        "best_precision=0\n",
        "best_threshold = -1\n",
        "for i in range(99):\n",
        "  y_pred = np.where(model_mlp(X_test_std).numpy() > (i/100), 1, 0).astype(\"int32\")\n",
        "  precision = precision_score( y_true=y_test, y_pred=y_pred ,  average='macro')\n",
        "  if precision > best_precision:\n",
        "    best_precision = precision\n",
        "    best_threshold = i/100\n"
      ],
      "metadata": {
        "id": "sikSCGKKBv1u",
        "colab": {
          "base_uri": "https://localhost:8080/"
        },
        "outputId": "f0d4ac47-82a2-4947-ae25-8883080c2c0c"
      },
      "execution_count": null,
      "outputs": [
        {
          "output_type": "stream",
          "name": "stderr",
          "text": [
            "/usr/local/lib/python3.8/dist-packages/sklearn/metrics/_classification.py:1318: UndefinedMetricWarning: Precision is ill-defined and being set to 0.0 in labels with no predicted samples. Use `zero_division` parameter to control this behavior.\n",
            "  _warn_prf(average, modifier, msg_start, len(result))\n",
            "/usr/local/lib/python3.8/dist-packages/sklearn/metrics/_classification.py:1318: UndefinedMetricWarning: Precision is ill-defined and being set to 0.0 in labels with no predicted samples. Use `zero_division` parameter to control this behavior.\n",
            "  _warn_prf(average, modifier, msg_start, len(result))\n",
            "/usr/local/lib/python3.8/dist-packages/sklearn/metrics/_classification.py:1318: UndefinedMetricWarning: Precision is ill-defined and being set to 0.0 in labels with no predicted samples. Use `zero_division` parameter to control this behavior.\n",
            "  _warn_prf(average, modifier, msg_start, len(result))\n",
            "/usr/local/lib/python3.8/dist-packages/sklearn/metrics/_classification.py:1318: UndefinedMetricWarning: Precision is ill-defined and being set to 0.0 in labels with no predicted samples. Use `zero_division` parameter to control this behavior.\n",
            "  _warn_prf(average, modifier, msg_start, len(result))\n",
            "/usr/local/lib/python3.8/dist-packages/sklearn/metrics/_classification.py:1318: UndefinedMetricWarning: Precision is ill-defined and being set to 0.0 in labels with no predicted samples. Use `zero_division` parameter to control this behavior.\n",
            "  _warn_prf(average, modifier, msg_start, len(result))\n",
            "/usr/local/lib/python3.8/dist-packages/sklearn/metrics/_classification.py:1318: UndefinedMetricWarning: Precision is ill-defined and being set to 0.0 in labels with no predicted samples. Use `zero_division` parameter to control this behavior.\n",
            "  _warn_prf(average, modifier, msg_start, len(result))\n",
            "/usr/local/lib/python3.8/dist-packages/sklearn/metrics/_classification.py:1318: UndefinedMetricWarning: Precision is ill-defined and being set to 0.0 in labels with no predicted samples. Use `zero_division` parameter to control this behavior.\n",
            "  _warn_prf(average, modifier, msg_start, len(result))\n",
            "/usr/local/lib/python3.8/dist-packages/sklearn/metrics/_classification.py:1318: UndefinedMetricWarning: Precision is ill-defined and being set to 0.0 in labels with no predicted samples. Use `zero_division` parameter to control this behavior.\n",
            "  _warn_prf(average, modifier, msg_start, len(result))\n",
            "/usr/local/lib/python3.8/dist-packages/sklearn/metrics/_classification.py:1318: UndefinedMetricWarning: Precision is ill-defined and being set to 0.0 in labels with no predicted samples. Use `zero_division` parameter to control this behavior.\n",
            "  _warn_prf(average, modifier, msg_start, len(result))\n",
            "/usr/local/lib/python3.8/dist-packages/sklearn/metrics/_classification.py:1318: UndefinedMetricWarning: Precision is ill-defined and being set to 0.0 in labels with no predicted samples. Use `zero_division` parameter to control this behavior.\n",
            "  _warn_prf(average, modifier, msg_start, len(result))\n",
            "/usr/local/lib/python3.8/dist-packages/sklearn/metrics/_classification.py:1318: UndefinedMetricWarning: Precision is ill-defined and being set to 0.0 in labels with no predicted samples. Use `zero_division` parameter to control this behavior.\n",
            "  _warn_prf(average, modifier, msg_start, len(result))\n",
            "/usr/local/lib/python3.8/dist-packages/sklearn/metrics/_classification.py:1318: UndefinedMetricWarning: Precision is ill-defined and being set to 0.0 in labels with no predicted samples. Use `zero_division` parameter to control this behavior.\n",
            "  _warn_prf(average, modifier, msg_start, len(result))\n",
            "/usr/local/lib/python3.8/dist-packages/sklearn/metrics/_classification.py:1318: UndefinedMetricWarning: Precision is ill-defined and being set to 0.0 in labels with no predicted samples. Use `zero_division` parameter to control this behavior.\n",
            "  _warn_prf(average, modifier, msg_start, len(result))\n",
            "/usr/local/lib/python3.8/dist-packages/sklearn/metrics/_classification.py:1318: UndefinedMetricWarning: Precision is ill-defined and being set to 0.0 in labels with no predicted samples. Use `zero_division` parameter to control this behavior.\n",
            "  _warn_prf(average, modifier, msg_start, len(result))\n"
          ]
        }
      ]
    },
    {
      "cell_type": "code",
      "source": [
        "print(\"best_precision:\" , best_precision)\n",
        "print(\"best_threshold:\" , best_threshold)"
      ],
      "metadata": {
        "colab": {
          "base_uri": "https://localhost:8080/"
        },
        "id": "0Svch27dONQ2",
        "outputId": "7171b554-c32f-449a-875e-a216070e4e2b"
      },
      "execution_count": null,
      "outputs": [
        {
          "output_type": "stream",
          "name": "stdout",
          "text": [
            "best_precision: 0.9610482649454852\n",
            "best_threshold: 0.83\n"
          ]
        }
      ]
    },
    {
      "cell_type": "code",
      "source": [],
      "metadata": {
        "id": "DemZSIXbONN3"
      },
      "execution_count": null,
      "outputs": []
    },
    {
      "cell_type": "code",
      "source": [],
      "metadata": {
        "id": "vj2dd4qZONCw"
      },
      "execution_count": null,
      "outputs": []
    },
    {
      "cell_type": "code",
      "source": [],
      "metadata": {
        "id": "H1THcRlXCg7o"
      },
      "execution_count": null,
      "outputs": []
    },
    {
      "cell_type": "code",
      "source": [],
      "metadata": {
        "id": "IA9CWFTLCg4-"
      },
      "execution_count": null,
      "outputs": []
    },
    {
      "cell_type": "code",
      "source": [],
      "metadata": {
        "id": "pj4pNUE8Cg2Y"
      },
      "execution_count": null,
      "outputs": []
    },
    {
      "cell_type": "markdown",
      "source": [
        "# Autoencoder"
      ],
      "metadata": {
        "id": "aDJOiywvDPvi"
      }
    },
    {
      "cell_type": "markdown",
      "source": [
        "![keras_autoencoders_header.png](data:image/png;base64,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)"
      ],
      "metadata": {
        "id": "hYnr-dzTELPC"
      }
    },
    {
      "cell_type": "code",
      "source": [
        "\n",
        "import numpy as np\n",
        "import pandas as pd\n",
        "import tensorflow as tf\n",
        "\n",
        "from sklearn.metrics import accuracy_score, precision_score, recall_score\n",
        "from sklearn.model_selection import train_test_split\n",
        "from tensorflow.keras import layers, losses\n",
        "from tensorflow.keras.models import Model\n",
        "\n",
        "\n",
        "latent_dim = 32 \n",
        "\n",
        "class Autoencoder(Model):\n",
        "  def __init__(self, latent_dim):\n",
        "    super(Autoencoder, self).__init__()\n",
        "    self.latent_dim = latent_dim   \n",
        "    self.encoder = tf.keras.Sequential([\n",
        "      layers.Dense(45, activation='relu'),\n",
        "      layers.Dense(latent_dim, activation='relu'),\n",
        "    ])\n",
        "    self.decoder = tf.keras.Sequential([\n",
        "      layers.Dense(45, activation='relu'),\n",
        "      layers.Dense(58, activation='sigmoid'),\n",
        "    ])\n",
        "\n",
        "  def call(self, x):\n",
        "    encoded = self.encoder(x)\n",
        "    decoded = self.decoder(encoded)\n",
        "    return decoded\n",
        "\n",
        "autoencoder = Autoencoder(latent_dim)"
      ],
      "metadata": {
        "id": "KpxE7bPEFp52"
      },
      "execution_count": null,
      "outputs": []
    },
    {
      "cell_type": "code",
      "source": [
        "autoencoder.compile(optimizer='adam', loss=losses.MeanSquaredError())\n",
        "\n",
        "\n",
        "autoencoder.fit(X_train_std, X_train_std,\n",
        "                epochs=10,\n",
        "                shuffle=True,\n",
        "                validation_data=(X_test_std, X_test_std))"
      ],
      "metadata": {
        "colab": {
          "base_uri": "https://localhost:8080/"
        },
        "id": "X9blP5mtCgz5",
        "outputId": "c7e21d32-41e0-453f-f700-1385a52bb609"
      },
      "execution_count": null,
      "outputs": [
        {
          "output_type": "stream",
          "name": "stdout",
          "text": [
            "Epoch 1/10\n",
            "5344/5344 [==============================] - 18s 3ms/step - loss: 0.6631 - val_loss: 0.5892\n",
            "Epoch 2/10\n",
            "5344/5344 [==============================] - 17s 3ms/step - loss: 0.6070 - val_loss: 0.5830\n",
            "Epoch 3/10\n",
            "5344/5344 [==============================] - 16s 3ms/step - loss: 0.6036 - val_loss: 0.5810\n",
            "Epoch 4/10\n",
            "5344/5344 [==============================] - 17s 3ms/step - loss: 0.6023 - val_loss: 0.5804\n",
            "Epoch 5/10\n",
            "5344/5344 [==============================] - 16s 3ms/step - loss: 0.6022 - val_loss: 0.5804\n",
            "Epoch 6/10\n",
            "5344/5344 [==============================] - 18s 3ms/step - loss: 0.6020 - val_loss: 0.5802\n",
            "Epoch 7/10\n",
            "5344/5344 [==============================] - 16s 3ms/step - loss: 0.6020 - val_loss: 0.5805\n",
            "Epoch 8/10\n",
            "5344/5344 [==============================] - 16s 3ms/step - loss: 0.6020 - val_loss: 0.5803\n",
            "Epoch 9/10\n",
            "5344/5344 [==============================] - 18s 3ms/step - loss: 0.6020 - val_loss: 0.5801\n",
            "Epoch 10/10\n",
            "5344/5344 [==============================] - 16s 3ms/step - loss: 0.6020 - val_loss: 0.5804\n"
          ]
        },
        {
          "output_type": "execute_result",
          "data": {
            "text/plain": [
              "<keras.callbacks.History at 0x7f4d001b30a0>"
            ]
          },
          "metadata": {},
          "execution_count": 43
        }
      ]
    },
    {
      "cell_type": "code",
      "source": [
        "encoded_inputs = autoencoder.encoder(X_test_std).numpy()\n",
        "decoded_inputs = autoencoder.decoder(encoded_inputs).numpy()"
      ],
      "metadata": {
        "id": "zTQlqw7pCgxP"
      },
      "execution_count": null,
      "outputs": []
    },
    {
      "cell_type": "code",
      "source": [
        "# precision_score, recall_score and f1_score with decoded_inputs( test data)\n",
        "from sklearn.metrics import precision_score\n",
        "from sklearn.metrics import recall_score, f1_score\n",
        "\n",
        "y_pred = (model_mlp.predict(decoded_inputs) > 0.5).astype(\"int32\")\n",
        "\n",
        "print('Precision: %.3f' % precision_score( y_true=y_test, y_pred=y_pred ,  average='macro'))\n",
        "\n",
        "print('Recall: %.3f' % recall_score(y_true=y_test, y_pred=y_pred ,  average='macro'))\n",
        "\n",
        "print('F1: %.3f' % f1_score(y_true=y_test, y_pred=y_pred ,  average='macro'))"
      ],
      "metadata": {
        "colab": {
          "base_uri": "https://localhost:8080/"
        },
        "id": "skfYN1xkGfTi",
        "outputId": "5278053e-906f-47dc-9d1c-918d114f2d3b"
      },
      "execution_count": null,
      "outputs": [
        {
          "output_type": "stream",
          "name": "stdout",
          "text": [
            "2291/2291 [==============================] - 3s 1ms/step\n",
            "Precision: 0.461\n",
            "Recall: 0.500\n",
            "F1: 0.480\n"
          ]
        },
        {
          "output_type": "stream",
          "name": "stderr",
          "text": [
            "/usr/local/lib/python3.8/dist-packages/sklearn/metrics/_classification.py:1318: UndefinedMetricWarning: Precision is ill-defined and being set to 0.0 in labels with no predicted samples. Use `zero_division` parameter to control this behavior.\n",
            "  _warn_prf(average, modifier, msg_start, len(result))\n"
          ]
        }
      ]
    },
    {
      "cell_type": "code",
      "source": [
        "# train model with encoded_inputs (train data)\n",
        "\n",
        "encoded_inputs = autoencoder.encoder(X_train_std).numpy()\n",
        "feature_vector_length = encoded_inputs.shape[1]\n",
        "\n",
        "# Set the input shape\n",
        "input_shape = (feature_vector_length,)\n",
        "print(f'Feature shape: {input_shape}')\n",
        "\n",
        "# Create the model\n",
        "model_mlp = Sequential()\n",
        "model_mlp.add(Dense(50, input_shape=input_shape, activation='relu'))\n",
        "model_mlp.add(Dense(30, activation='relu'))\n",
        "model_mlp.add(Dense(1, activation='sigmoid'))\n",
        "\n",
        "model_mlp.compile(optimizer = 'adam',loss = 'binary_crossentropy', metrics = ['accuracy'])\n",
        "import time\n",
        "start_time = time.time()\n",
        "callback = tf.keras.callbacks.EarlyStopping(monitor=\"val_loss\",min_delta=0.001, patience=5)\n",
        "history = model_mlp.fit(encoded_inputs, y_train, batch_size=64, epochs=20,callbacks=[callback] ,\n",
        "                    verbose=1, shuffle=True ,validation_split=0.1)\n",
        "\n",
        "print()\n",
        "print(\"--- %s seconds ---\" % (time.time() - start_time))"
      ],
      "metadata": {
        "colab": {
          "base_uri": "https://localhost:8080/"
        },
        "id": "xgDP9zEFCguo",
        "outputId": "e3176b75-2acc-4594-a4cd-c20c925a3e29"
      },
      "execution_count": null,
      "outputs": [
        {
          "output_type": "stream",
          "name": "stdout",
          "text": [
            "Feature shape: (32,)\n",
            "Epoch 1/20\n",
            "2405/2405 [==============================] - 7s 3ms/step - loss: 0.2820 - accuracy: 0.9195 - val_loss: 0.2634 - val_accuracy: 0.9229\n",
            "Epoch 2/20\n",
            "2405/2405 [==============================] - 7s 3ms/step - loss: 0.2639 - accuracy: 0.9220 - val_loss: 0.2611 - val_accuracy: 0.9229\n",
            "Epoch 3/20\n",
            "2405/2405 [==============================] - 7s 3ms/step - loss: 0.2628 - accuracy: 0.9220 - val_loss: 0.2621 - val_accuracy: 0.9229\n",
            "Epoch 4/20\n",
            "2405/2405 [==============================] - 7s 3ms/step - loss: 0.2622 - accuracy: 0.9220 - val_loss: 0.2601 - val_accuracy: 0.9229\n",
            "Epoch 5/20\n",
            "2405/2405 [==============================] - 7s 3ms/step - loss: 0.2615 - accuracy: 0.9220 - val_loss: 0.2608 - val_accuracy: 0.9229\n",
            "Epoch 6/20\n",
            "2405/2405 [==============================] - 7s 3ms/step - loss: 0.2611 - accuracy: 0.9220 - val_loss: 0.2595 - val_accuracy: 0.9229\n",
            "Epoch 7/20\n",
            "2405/2405 [==============================] - 7s 3ms/step - loss: 0.2605 - accuracy: 0.9220 - val_loss: 0.2598 - val_accuracy: 0.9229\n",
            "Epoch 8/20\n",
            "2405/2405 [==============================] - 7s 3ms/step - loss: 0.2598 - accuracy: 0.9220 - val_loss: 0.2589 - val_accuracy: 0.9229\n",
            "Epoch 9/20\n",
            "2405/2405 [==============================] - 7s 3ms/step - loss: 0.2593 - accuracy: 0.9220 - val_loss: 0.2591 - val_accuracy: 0.9229\n",
            "Epoch 10/20\n",
            "2405/2405 [==============================] - 7s 3ms/step - loss: 0.2592 - accuracy: 0.9220 - val_loss: 0.2578 - val_accuracy: 0.9229\n",
            "Epoch 11/20\n",
            "2405/2405 [==============================] - 7s 3ms/step - loss: 0.2587 - accuracy: 0.9220 - val_loss: 0.2579 - val_accuracy: 0.9229\n",
            "Epoch 12/20\n",
            "2405/2405 [==============================] - 7s 3ms/step - loss: 0.2586 - accuracy: 0.9220 - val_loss: 0.2577 - val_accuracy: 0.9229\n",
            "Epoch 13/20\n",
            "2405/2405 [==============================] - 7s 3ms/step - loss: 0.2581 - accuracy: 0.9220 - val_loss: 0.2570 - val_accuracy: 0.9229\n",
            "Epoch 14/20\n",
            "2405/2405 [==============================] - 7s 3ms/step - loss: 0.2578 - accuracy: 0.9220 - val_loss: 0.2574 - val_accuracy: 0.9229\n",
            "Epoch 15/20\n",
            "2405/2405 [==============================] - 7s 3ms/step - loss: 0.2579 - accuracy: 0.9220 - val_loss: 0.2575 - val_accuracy: 0.9229\n",
            "\n",
            "--- 104.71591663360596 seconds ---\n"
          ]
        }
      ]
    },
    {
      "cell_type": "code",
      "source": [
        "# precision_score, recall_score , f1_score  with test data\n",
        "from sklearn.metrics import precision_score\n",
        "from sklearn.metrics import recall_score, f1_score\n",
        "\n",
        "encoded_inputs = autoencoder.encoder(X_test_std).numpy()\n",
        "y_pred = (model_mlp.predict(encoded_inputs) > 0.5).astype(\"int32\")\n",
        "\n",
        "print('Precision: %.3f' % precision_score( y_true=y_test, y_pred=y_pred ,  average='macro'))\n",
        "\n",
        "print('Recall: %.3f' % recall_score(y_true=y_test, y_pred=y_pred ,  average='macro'))\n",
        "\n",
        "print('F1: %.3f' % f1_score(y_true=y_test, y_pred=y_pred ,  average='macro'))"
      ],
      "metadata": {
        "id": "bcKtxIOU1nr3",
        "colab": {
          "base_uri": "https://localhost:8080/"
        },
        "outputId": "c4e85c1f-074f-4f37-c077-b2bfbeec1469"
      },
      "execution_count": null,
      "outputs": [
        {
          "output_type": "stream",
          "name": "stdout",
          "text": [
            "2291/2291 [==============================] - 3s 1ms/step\n",
            "Precision: 0.461\n",
            "Recall: 0.500\n",
            "F1: 0.480\n"
          ]
        },
        {
          "output_type": "stream",
          "name": "stderr",
          "text": [
            "/usr/local/lib/python3.8/dist-packages/sklearn/metrics/_classification.py:1318: UndefinedMetricWarning: Precision is ill-defined and being set to 0.0 in labels with no predicted samples. Use `zero_division` parameter to control this behavior.\n",
            "  _warn_prf(average, modifier, msg_start, len(result))\n"
          ]
        }
      ]
    },
    {
      "cell_type": "code",
      "source": [],
      "metadata": {
        "id": "HLaR6flNGxKk"
      },
      "execution_count": null,
      "outputs": []
    },
    {
      "cell_type": "code",
      "source": [],
      "metadata": {
        "id": "4NkeDlo6HQ_3"
      },
      "execution_count": null,
      "outputs": []
    },
    {
      "cell_type": "code",
      "source": [],
      "metadata": {
        "id": "xmSmt1jOHRCg"
      },
      "execution_count": null,
      "outputs": []
    },
    {
      "cell_type": "code",
      "source": [],
      "metadata": {
        "id": "7fQWfe9MHRFa"
      },
      "execution_count": null,
      "outputs": []
    },
    {
      "cell_type": "code",
      "source": [],
      "metadata": {
        "id": "-811an9XHRIX"
      },
      "execution_count": null,
      "outputs": []
    },
    {
      "cell_type": "code",
      "source": [],
      "metadata": {
        "id": "nTjrQg8NHRLQ"
      },
      "execution_count": null,
      "outputs": []
    },
    {
      "cell_type": "code",
      "source": [],
      "metadata": {
        "id": "lhlw7p60HRN4"
      },
      "execution_count": null,
      "outputs": []
    },
    {
      "cell_type": "code",
      "source": [],
      "metadata": {
        "id": "AthFjG3HHRRP"
      },
      "execution_count": null,
      "outputs": []
    },
    {
      "cell_type": "code",
      "source": [],
      "metadata": {
        "id": "ojqjRgybHRUF"
      },
      "execution_count": null,
      "outputs": []
    },
    {
      "cell_type": "code",
      "source": [],
      "metadata": {
        "id": "-D0LH9VRHJ8N"
      },
      "execution_count": null,
      "outputs": []
    }
  ]
}