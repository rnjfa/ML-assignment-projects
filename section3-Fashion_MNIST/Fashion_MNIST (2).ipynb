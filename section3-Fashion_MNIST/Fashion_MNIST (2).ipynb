{
  "cells": [
    {
      "cell_type": "markdown",
      "source": [
        "Fateme Ranjbaran 400126060\n",
        "#to see the implemented code for the section 3 roll down. there are some other useful implementations first which are not requested in the question."
      ],
      "metadata": {
        "id": "cuTkNQ2RN8QR"
      }
    },
    {
      "cell_type": "code",
      "execution_count": 1,
      "metadata": {
        "colab": {
          "base_uri": "https://localhost:8080/"
        },
        "id": "M2IXpFpk9Rzs",
        "outputId": "d5ebd81d-77a5-48d3-efcc-bf6a8dc4d688"
      },
      "outputs": [
        {
          "output_type": "stream",
          "name": "stdout",
          "text": [
            "Sun Jan 29 10:34:48 2023       \n",
            "+-----------------------------------------------------------------------------+\n",
            "| NVIDIA-SMI 510.47.03    Driver Version: 510.47.03    CUDA Version: 11.6     |\n",
            "|-------------------------------+----------------------+----------------------+\n",
            "| GPU  Name        Persistence-M| Bus-Id        Disp.A | Volatile Uncorr. ECC |\n",
            "| Fan  Temp  Perf  Pwr:Usage/Cap|         Memory-Usage | GPU-Util  Compute M. |\n",
            "|                               |                      |               MIG M. |\n",
            "|===============================+======================+======================|\n",
            "|   0  Tesla T4            Off  | 00000000:00:04.0 Off |                    0 |\n",
            "| N/A   45C    P0    15W /  70W |      0MiB / 15360MiB |      0%      Default |\n",
            "|                               |                      |                  N/A |\n",
            "+-------------------------------+----------------------+----------------------+\n",
            "                                                                               \n",
            "+-----------------------------------------------------------------------------+\n",
            "| Processes:                                                                  |\n",
            "|  GPU   GI   CI        PID   Type   Process name                  GPU Memory |\n",
            "|        ID   ID                                                   Usage      |\n",
            "|=============================================================================|\n",
            "|  No running processes found                                                 |\n",
            "+-----------------------------------------------------------------------------+\n"
          ]
        }
      ],
      "source": [
        "# Check if NVIDIA GPU is enabled\n",
        "!nvidia-smi"
      ]
    },
    {
      "cell_type": "code",
      "execution_count": 2,
      "metadata": {
        "id": "ptDDLl1m9b9a"
      },
      "outputs": [],
      "source": [
        "import tensorflow\n",
        "from keras.datasets import fashion_mnist\n",
        "from tensorflow.keras.models import Sequential\n",
        "from tensorflow.keras.layers import Dense\n",
        "from tensorflow.keras.utils import to_categorical"
      ]
    },
    {
      "cell_type": "code",
      "execution_count": null,
      "metadata": {
        "id": "4TApDV3UBDkR"
      },
      "outputs": [],
      "source": []
    },
    {
      "cell_type": "markdown",
      "metadata": {
        "id": "08iYVgZTL3Ol"
      },
      "source": [
        "# MLP"
      ]
    },
    {
      "cell_type": "code",
      "execution_count": 3,
      "metadata": {
        "colab": {
          "base_uri": "https://localhost:8080/"
        },
        "id": "zP4wfDqdBbmg",
        "outputId": "85b70f76-838c-4326-c085-3fa9faed9f8c"
      },
      "outputs": [
        {
          "output_type": "stream",
          "name": "stdout",
          "text": [
            "Downloading data from https://storage.googleapis.com/tensorflow/tf-keras-datasets/train-labels-idx1-ubyte.gz\n",
            "29515/29515 [==============================] - 0s 0us/step\n",
            "Downloading data from https://storage.googleapis.com/tensorflow/tf-keras-datasets/train-images-idx3-ubyte.gz\n",
            "26421880/26421880 [==============================] - 1s 0us/step\n",
            "Downloading data from https://storage.googleapis.com/tensorflow/tf-keras-datasets/t10k-labels-idx1-ubyte.gz\n",
            "5148/5148 [==============================] - 0s 0us/step\n",
            "Downloading data from https://storage.googleapis.com/tensorflow/tf-keras-datasets/t10k-images-idx3-ubyte.gz\n",
            "4422102/4422102 [==============================] - 0s 0us/step\n",
            "(60000, 28, 28)\n",
            "(60000,)\n",
            "(10000, 28, 28)\n",
            "(10000,)\n"
          ]
        }
      ],
      "source": [
        "from keras.datasets import fashion_mnist\n",
        "(X_train, y_train), (X_test, y_test) = fashion_mnist.load_data()\n",
        "print(X_train.shape)\n",
        "print(y_train.shape)\n",
        "print(X_test.shape)\n",
        "print(y_test.shape)"
      ]
    },
    {
      "cell_type": "code",
      "execution_count": null,
      "metadata": {
        "colab": {
          "base_uri": "https://localhost:8080/"
        },
        "id": "IObNICoe9cDO",
        "outputId": "5051e079-2568-4f2f-f5b1-787a81068153"
      },
      "outputs": [
        {
          "name": "stdout",
          "output_type": "stream",
          "text": [
            "Feature shape: (784,)\n",
            "Epoch 1/50\n",
            "844/844 [==============================] - 5s 3ms/step - loss: 0.4992 - accuracy: 0.8214 - val_loss: 0.4161 - val_accuracy: 0.8457\n",
            "Epoch 2/50\n",
            "844/844 [==============================] - 3s 3ms/step - loss: 0.3740 - accuracy: 0.8626 - val_loss: 0.3655 - val_accuracy: 0.8635\n",
            "Epoch 3/50\n",
            "844/844 [==============================] - 3s 3ms/step - loss: 0.3398 - accuracy: 0.8745 - val_loss: 0.3390 - val_accuracy: 0.8770\n",
            "Epoch 4/50\n",
            "844/844 [==============================] - 3s 3ms/step - loss: 0.3157 - accuracy: 0.8834 - val_loss: 0.3618 - val_accuracy: 0.8650\n",
            "Epoch 5/50\n",
            "844/844 [==============================] - 3s 3ms/step - loss: 0.2965 - accuracy: 0.8891 - val_loss: 0.3179 - val_accuracy: 0.8825\n",
            "Epoch 6/50\n",
            "844/844 [==============================] - 3s 3ms/step - loss: 0.2809 - accuracy: 0.8958 - val_loss: 0.3354 - val_accuracy: 0.8745\n",
            "Epoch 7/50\n",
            "844/844 [==============================] - 3s 3ms/step - loss: 0.2667 - accuracy: 0.9017 - val_loss: 0.3226 - val_accuracy: 0.8835\n",
            "Epoch 8/50\n",
            "844/844 [==============================] - 3s 3ms/step - loss: 0.2583 - accuracy: 0.9028 - val_loss: 0.3096 - val_accuracy: 0.8873\n",
            "Epoch 9/50\n",
            "844/844 [==============================] - 3s 3ms/step - loss: 0.2465 - accuracy: 0.9083 - val_loss: 0.3071 - val_accuracy: 0.8865\n",
            "Epoch 10/50\n",
            "844/844 [==============================] - 3s 3ms/step - loss: 0.2374 - accuracy: 0.9127 - val_loss: 0.3197 - val_accuracy: 0.8832\n",
            "Epoch 11/50\n",
            "844/844 [==============================] - 3s 3ms/step - loss: 0.2290 - accuracy: 0.9147 - val_loss: 0.3135 - val_accuracy: 0.8880\n",
            "Epoch 12/50\n",
            "844/844 [==============================] - 3s 3ms/step - loss: 0.2222 - accuracy: 0.9167 - val_loss: 0.3120 - val_accuracy: 0.8890\n",
            "Epoch 13/50\n",
            "844/844 [==============================] - 3s 3ms/step - loss: 0.2141 - accuracy: 0.9191 - val_loss: 0.3107 - val_accuracy: 0.8917\n",
            "Epoch 14/50\n",
            "844/844 [==============================] - 3s 3ms/step - loss: 0.2071 - accuracy: 0.9224 - val_loss: 0.3194 - val_accuracy: 0.8873\n",
            "Epoch 15/50\n",
            "844/844 [==============================] - 3s 3ms/step - loss: 0.2004 - accuracy: 0.9238 - val_loss: 0.3145 - val_accuracy: 0.8912\n",
            "Epoch 16/50\n",
            "844/844 [==============================] - 3s 3ms/step - loss: 0.1934 - accuracy: 0.9265 - val_loss: 0.3317 - val_accuracy: 0.8887\n",
            "Epoch 17/50\n",
            "844/844 [==============================] - 3s 3ms/step - loss: 0.1872 - accuracy: 0.9299 - val_loss: 0.3363 - val_accuracy: 0.8877\n",
            "Epoch 18/50\n",
            "844/844 [==============================] - 3s 3ms/step - loss: 0.1810 - accuracy: 0.9326 - val_loss: 0.3172 - val_accuracy: 0.8937\n",
            "Epoch 19/50\n",
            "844/844 [==============================] - 3s 3ms/step - loss: 0.1772 - accuracy: 0.9333 - val_loss: 0.3321 - val_accuracy: 0.8913\n",
            "Epoch 20/50\n",
            "844/844 [==============================] - 3s 3ms/step - loss: 0.1721 - accuracy: 0.9357 - val_loss: 0.3454 - val_accuracy: 0.8850\n",
            "Epoch 21/50\n",
            "844/844 [==============================] - 3s 3ms/step - loss: 0.1651 - accuracy: 0.9375 - val_loss: 0.3470 - val_accuracy: 0.8832\n",
            "Epoch 22/50\n",
            "844/844 [==============================] - 3s 3ms/step - loss: 0.1639 - accuracy: 0.9376 - val_loss: 0.3367 - val_accuracy: 0.8882\n",
            "Epoch 23/50\n",
            "844/844 [==============================] - 3s 3ms/step - loss: 0.1554 - accuracy: 0.9415 - val_loss: 0.3515 - val_accuracy: 0.8918\n",
            "Epoch 24/50\n",
            "844/844 [==============================] - 3s 3ms/step - loss: 0.1534 - accuracy: 0.9427 - val_loss: 0.3416 - val_accuracy: 0.8902\n",
            "Epoch 25/50\n",
            "844/844 [==============================] - 3s 3ms/step - loss: 0.1459 - accuracy: 0.9452 - val_loss: 0.3748 - val_accuracy: 0.8870\n",
            "Epoch 26/50\n",
            "844/844 [==============================] - 3s 3ms/step - loss: 0.1425 - accuracy: 0.9468 - val_loss: 0.3469 - val_accuracy: 0.8925\n",
            "Epoch 27/50\n",
            "844/844 [==============================] - 3s 3ms/step - loss: 0.1387 - accuracy: 0.9484 - val_loss: 0.3737 - val_accuracy: 0.8887\n",
            "Epoch 28/50\n",
            "844/844 [==============================] - 3s 3ms/step - loss: 0.1369 - accuracy: 0.9483 - val_loss: 0.3488 - val_accuracy: 0.8920\n",
            "Epoch 29/50\n",
            "844/844 [==============================] - 3s 3ms/step - loss: 0.1298 - accuracy: 0.9516 - val_loss: 0.3692 - val_accuracy: 0.8950\n",
            "Epoch 30/50\n",
            "844/844 [==============================] - 3s 3ms/step - loss: 0.1261 - accuracy: 0.9524 - val_loss: 0.3980 - val_accuracy: 0.8823\n",
            "Epoch 31/50\n",
            "844/844 [==============================] - 3s 3ms/step - loss: 0.1246 - accuracy: 0.9536 - val_loss: 0.3744 - val_accuracy: 0.8888\n",
            "Epoch 32/50\n",
            "844/844 [==============================] - 3s 3ms/step - loss: 0.1193 - accuracy: 0.9546 - val_loss: 0.3691 - val_accuracy: 0.8963\n",
            "Epoch 33/50\n",
            "844/844 [==============================] - 3s 3ms/step - loss: 0.1150 - accuracy: 0.9585 - val_loss: 0.3891 - val_accuracy: 0.8888\n",
            "Epoch 34/50\n",
            "844/844 [==============================] - 3s 3ms/step - loss: 0.1126 - accuracy: 0.9580 - val_loss: 0.3784 - val_accuracy: 0.8915\n",
            "Epoch 35/50\n",
            "844/844 [==============================] - 2s 3ms/step - loss: 0.1122 - accuracy: 0.9587 - val_loss: 0.3995 - val_accuracy: 0.8892\n",
            "Epoch 36/50\n",
            "844/844 [==============================] - 3s 3ms/step - loss: 0.1023 - accuracy: 0.9617 - val_loss: 0.3954 - val_accuracy: 0.8908\n",
            "Epoch 37/50\n",
            "844/844 [==============================] - 3s 3ms/step - loss: 0.1036 - accuracy: 0.9610 - val_loss: 0.4070 - val_accuracy: 0.8935\n",
            "Epoch 38/50\n",
            "844/844 [==============================] - 3s 3ms/step - loss: 0.1002 - accuracy: 0.9629 - val_loss: 0.4155 - val_accuracy: 0.8935\n",
            "Epoch 39/50\n",
            "844/844 [==============================] - 3s 3ms/step - loss: 0.0961 - accuracy: 0.9642 - val_loss: 0.4128 - val_accuracy: 0.8908\n",
            "Epoch 40/50\n",
            "844/844 [==============================] - 3s 3ms/step - loss: 0.0999 - accuracy: 0.9625 - val_loss: 0.4090 - val_accuracy: 0.8933\n",
            "Epoch 41/50\n",
            "844/844 [==============================] - 3s 3ms/step - loss: 0.0934 - accuracy: 0.9657 - val_loss: 0.4160 - val_accuracy: 0.8928\n",
            "Epoch 42/50\n",
            "844/844 [==============================] - 3s 3ms/step - loss: 0.0935 - accuracy: 0.9657 - val_loss: 0.4220 - val_accuracy: 0.8917\n",
            "Epoch 43/50\n",
            "844/844 [==============================] - 3s 3ms/step - loss: 0.0874 - accuracy: 0.9678 - val_loss: 0.4392 - val_accuracy: 0.8865\n",
            "Epoch 44/50\n",
            "844/844 [==============================] - 3s 3ms/step - loss: 0.0862 - accuracy: 0.9687 - val_loss: 0.4272 - val_accuracy: 0.8920\n",
            "Epoch 45/50\n",
            "844/844 [==============================] - 3s 3ms/step - loss: 0.0848 - accuracy: 0.9683 - val_loss: 0.4154 - val_accuracy: 0.8950\n",
            "Epoch 46/50\n",
            "844/844 [==============================] - 3s 3ms/step - loss: 0.0876 - accuracy: 0.9672 - val_loss: 0.4478 - val_accuracy: 0.8873\n",
            "Epoch 47/50\n",
            "844/844 [==============================] - 3s 3ms/step - loss: 0.0820 - accuracy: 0.9697 - val_loss: 0.4365 - val_accuracy: 0.8940\n",
            "Epoch 48/50\n",
            "844/844 [==============================] - 3s 3ms/step - loss: 0.0789 - accuracy: 0.9703 - val_loss: 0.4623 - val_accuracy: 0.8908\n",
            "Epoch 49/50\n",
            "844/844 [==============================] - 3s 3ms/step - loss: 0.0769 - accuracy: 0.9714 - val_loss: 0.4648 - val_accuracy: 0.8875\n",
            "Epoch 50/50\n",
            "844/844 [==============================] - 3s 3ms/step - loss: 0.0720 - accuracy: 0.9742 - val_loss: 0.4642 - val_accuracy: 0.8940\n",
            "\n",
            "--- 135.12803721427917 seconds ---\n",
            "313/313 [==============================] - 1s 2ms/step - loss: 0.4915 - accuracy: 0.8836\n",
            "Test results - Loss: 0.4914884865283966 - Accuracy: 0.8835999965667725%\n"
          ]
        }
      ],
      "source": [
        "from keras.datasets import fashion_mnist\n",
        "(X_train, y_train), (X_test, y_test) = fashion_mnist.load_data()\n",
        "# print(X_train.shape)\n",
        "# print(y_train.shape)\n",
        "# print(X_test.shape)\n",
        "# print(y_test.shape)\n",
        "\n",
        "# Configuration options\n",
        "feature_vector_length = 28 * 28\n",
        "num_classes = 10\n",
        "\n",
        "\n",
        "# Reshape the data - MLPs do not understand such things as '2D'.\n",
        "# Reshape to 28 x 28  pixels = 784 features\n",
        "X_train = X_train.reshape(X_train.shape[0], feature_vector_length)\n",
        "X_test = X_test.reshape(X_test.shape[0], feature_vector_length)\n",
        "\n",
        "\n",
        "\n",
        "# Convert into greyscale\n",
        "X_train = X_train.astype('float32')\n",
        "X_test = X_test.astype('float32')\n",
        "X_train /= 255\n",
        "X_test /= 255\n",
        "\n",
        "# Convert target classes to categorical ones\n",
        "y_train = to_categorical(y_train, num_classes)\n",
        "y_test = to_categorical(y_test, num_classes)\n",
        "\n",
        "# Set the input shape\n",
        "input_shape = (feature_vector_length,)\n",
        "print(f'Feature shape: {input_shape}')\n",
        "\n",
        "# Create the model\n",
        "model = Sequential()\n",
        "model.add(Dense(100, input_shape=input_shape, activation='tanh'))\n",
        "model.add(Dense(100, activation='tanh'))\n",
        "model.add(Dense(num_classes, activation='softmax'))\n",
        "\n",
        "# Configure the model and start training\n",
        "model.compile(loss='categorical_crossentropy', optimizer='adam', metrics=['accuracy'])\n",
        "\n",
        "import time\n",
        "start_time = time.time()\n",
        "\n",
        "\n",
        "history = model.fit(X_train, y_train, batch_size=64, epochs=50, verbose=1, validation_split=0.1)\n",
        "\n",
        "print()\n",
        "print(\"--- %s seconds ---\" % (time.time() - start_time))\n",
        "\n",
        "# model.fit(X_train, y_train, epochs=10, batch_size=250, verbose=1, validation_split=0.2)\n",
        "\n",
        "# Test the model after training\n",
        "test_results = model.evaluate(X_test, y_test, verbose=1)\n",
        "print(f'Test results - Loss: {test_results[0]} - Accuracy: {test_results[1]}%')"
      ]
    },
    {
      "cell_type": "code",
      "execution_count": null,
      "metadata": {
        "id": "AcJ57fXn9cET"
      },
      "outputs": [],
      "source": []
    },
    {
      "cell_type": "code",
      "execution_count": null,
      "metadata": {
        "id": "ggAqb7lt9cFS"
      },
      "outputs": [],
      "source": []
    },
    {
      "cell_type": "markdown",
      "metadata": {
        "id": "ntCQAlwiLu1A"
      },
      "source": [
        "# CONV2d"
      ]
    },
    {
      "cell_type": "code",
      "execution_count": 4,
      "metadata": {
        "id": "3BTZ7fUw9cJW"
      },
      "outputs": [],
      "source": [
        "import tensorflow as tf\n",
        "import tensorflow_datasets as tfds\n",
        "import pandas as pd\n",
        "\n",
        "import matplotlib.pyplot as plt\n",
        "%matplotlib inline"
      ]
    },
    {
      "cell_type": "code",
      "execution_count": 5,
      "metadata": {
        "colab": {
          "base_uri": "https://localhost:8080/",
          "height": 124,
          "referenced_widgets": [
            "73769e77bee241fb907293cb5f255466",
            "8940c30df185418f8e0f486c4b493ca6",
            "2e34eb86b91d4adc96a2e86d1f94ac30",
            "56309e1e16074f7db00a30fc0ba5b525",
            "7172192ca62844dd835350df1c3c0c71",
            "01f8f3f610fa40e88b6f4d43058a484b",
            "5a2f072b53884fe3ae527fa8ec8a62b6",
            "f6fd71e3dd0643d5be28b758f4536752",
            "65468023133b4b06a65eb30a4c8e810e",
            "765a2d7757394473a691301a0853a39d",
            "d4a6812f032542dfafef25aa3bcf6071"
          ]
        },
        "id": "EKHwzc8Y9cKx",
        "outputId": "b3b93cf4-6fa2-40e8-f3e2-ddab17a019b9"
      },
      "outputs": [
        {
          "output_type": "stream",
          "name": "stdout",
          "text": [
            "Downloading and preparing dataset 11.06 MiB (download: 11.06 MiB, generated: 21.00 MiB, total: 32.06 MiB) to /root/tensorflow_datasets/mnist/3.0.1...\n"
          ]
        },
        {
          "output_type": "display_data",
          "data": {
            "text/plain": [
              "Dl Completed...:   0%|          | 0/5 [00:00<?, ? file/s]"
            ],
            "application/vnd.jupyter.widget-view+json": {
              "version_major": 2,
              "version_minor": 0,
              "model_id": "73769e77bee241fb907293cb5f255466"
            }
          },
          "metadata": {}
        },
        {
          "output_type": "stream",
          "name": "stdout",
          "text": [
            "Dataset mnist downloaded and prepared to /root/tensorflow_datasets/mnist/3.0.1. Subsequent calls will reuse this data.\n",
            "dict_keys(['test', 'train'])\n"
          ]
        }
      ],
      "source": [
        "## fashion_MNIST dataset\n",
        "\n",
        "mnist_bldr = tfds.builder('mnist')\n",
        "mnist_bldr.download_and_prepare()\n",
        "datasets = mnist_bldr.as_dataset(shuffle_files=False)\n",
        "print(datasets.keys())\n",
        "mnist_train_orig, mnist_test_orig = datasets['train'], datasets['test']"
      ]
    },
    {
      "cell_type": "code",
      "execution_count": null,
      "metadata": {
        "id": "tWGSXgFT9cNA"
      },
      "outputs": [],
      "source": [
        "BUFFER_SIZE = 10000\n",
        "BATCH_SIZE = 64\n",
        "NUM_EPOCHS = 20"
      ]
    },
    {
      "cell_type": "code",
      "execution_count": null,
      "metadata": {
        "id": "KXnaRbYT9cQd"
      },
      "outputs": [],
      "source": [
        "mnist_train = mnist_train_orig.map(\n",
        "    lambda item: (tf.cast(item['image'], tf.float32)/255.0, \n",
        "                  tf.cast(item['label'], tf.int32)))\n",
        "\n",
        "mnist_test = mnist_test_orig.map(\n",
        "    lambda item: (tf.cast(item['image'], tf.float32)/255.0, \n",
        "                  tf.cast(item['label'], tf.int32)))\n",
        "\n",
        "tf.random.set_seed(1)\n",
        "\n",
        "mnist_train = mnist_train.shuffle(buffer_size=BUFFER_SIZE,\n",
        "                                  reshuffle_each_iteration=False)\n",
        "\n",
        "mnist_valid = mnist_train.take(10000).batch(BATCH_SIZE)\n",
        "mnist_train = mnist_train.skip(10000).batch(BATCH_SIZE)"
      ]
    },
    {
      "cell_type": "code",
      "execution_count": null,
      "metadata": {
        "id": "JJXqVanP9ccU"
      },
      "outputs": [],
      "source": []
    },
    {
      "cell_type": "markdown",
      "metadata": {
        "id": "L3fHU1TUNLah"
      },
      "source": [
        "## Constructing a CNN in Keras"
      ]
    },
    {
      "cell_type": "code",
      "execution_count": null,
      "metadata": {
        "id": "9mpRpcUn9chU"
      },
      "outputs": [],
      "source": [
        "model = tf.keras.Sequential()\n",
        "\n",
        "model.add(tf.keras.layers.Conv2D(\n",
        "    filters=32, kernel_size=(5, 5),\n",
        "    strides=(1, 1), padding='same',\n",
        "    data_format='channels_last',\n",
        "    name='conv_1', activation='relu'))\n",
        "\n",
        "model.add(tf.keras.layers.MaxPool2D(\n",
        "    pool_size=(2, 2), name='pool_1'))\n",
        "    \n",
        "model.add(tf.keras.layers.Conv2D(\n",
        "    filters=64, kernel_size=(5, 5),\n",
        "    strides=(1, 1), padding='same',\n",
        "    name='conv_2', activation='relu'))\n",
        "\n",
        "model.add(tf.keras.layers.MaxPool2D(pool_size=(2, 2), name='pool_2'))"
      ]
    },
    {
      "cell_type": "code",
      "execution_count": null,
      "metadata": {
        "colab": {
          "base_uri": "https://localhost:8080/"
        },
        "id": "LggWUbBo9ciV",
        "outputId": "cb69781b-1716-49d6-b0ea-1778be1fcb15"
      },
      "outputs": [
        {
          "data": {
            "text/plain": [
              "TensorShape([16, 7, 7, 64])"
            ]
          },
          "execution_count": 6,
          "metadata": {},
          "output_type": "execute_result"
        }
      ],
      "source": [
        "model.compute_output_shape(input_shape=(16, 28, 28, 1))"
      ]
    },
    {
      "cell_type": "code",
      "execution_count": null,
      "metadata": {
        "colab": {
          "base_uri": "https://localhost:8080/"
        },
        "id": "R_WhUGLh9ckk",
        "outputId": "01f3a491-78fa-4a69-a3ae-b6eff9df071c"
      },
      "outputs": [
        {
          "data": {
            "text/plain": [
              "TensorShape([16, 3136])"
            ]
          },
          "execution_count": 7,
          "metadata": {},
          "output_type": "execute_result"
        }
      ],
      "source": [
        "model.add(tf.keras.layers.Flatten())\n",
        "    \n",
        "model.compute_output_shape(input_shape=(16, 28, 28, 1))"
      ]
    },
    {
      "cell_type": "code",
      "execution_count": null,
      "metadata": {
        "id": "tRd85eH9Nb8j"
      },
      "outputs": [],
      "source": [
        "model.add(tf.keras.layers.Dense(\n",
        "    units=1024, name='fc_1', \n",
        "    activation='relu'))\n",
        "\n",
        "model.add(tf.keras.layers.Dropout(\n",
        "    rate=0.5))\n",
        "    \n",
        "model.add(tf.keras.layers.Dense(\n",
        "    units=10, name='fc_2',\n",
        "    activation='softmax'))"
      ]
    },
    {
      "cell_type": "code",
      "execution_count": null,
      "metadata": {
        "colab": {
          "base_uri": "https://localhost:8080/"
        },
        "id": "UbJP55rMNcIQ",
        "outputId": "9f983a7b-510d-4eb0-ea1f-064b6adcf126"
      },
      "outputs": [
        {
          "data": {
            "text/plain": [
              "TensorShape([16, 10])"
            ]
          },
          "execution_count": 9,
          "metadata": {},
          "output_type": "execute_result"
        }
      ],
      "source": [
        "tf.random.set_seed(1)\n",
        "model.build(input_shape=(None, 28, 28, 1))\n",
        "\n",
        "model.compute_output_shape(input_shape=(16, 28, 28, 1))"
      ]
    },
    {
      "cell_type": "code",
      "execution_count": null,
      "metadata": {
        "colab": {
          "base_uri": "https://localhost:8080/"
        },
        "id": "_bnzwfbRNcK4",
        "outputId": "73234d66-a934-4a22-f059-337ab39ebfae"
      },
      "outputs": [
        {
          "name": "stdout",
          "output_type": "stream",
          "text": [
            "Model: \"sequential\"\n",
            "_________________________________________________________________\n",
            " Layer (type)                Output Shape              Param #   \n",
            "=================================================================\n",
            " conv_1 (Conv2D)             (None, 28, 28, 32)        832       \n",
            "                                                                 \n",
            " pool_1 (MaxPooling2D)       (None, 14, 14, 32)        0         \n",
            "                                                                 \n",
            " conv_2 (Conv2D)             (None, 14, 14, 64)        51264     \n",
            "                                                                 \n",
            " pool_2 (MaxPooling2D)       (None, 7, 7, 64)          0         \n",
            "                                                                 \n",
            " flatten (Flatten)           (None, 3136)              0         \n",
            "                                                                 \n",
            " fc_1 (Dense)                (None, 1024)              3212288   \n",
            "                                                                 \n",
            " dropout (Dropout)           (None, 1024)              0         \n",
            "                                                                 \n",
            " fc_2 (Dense)                (None, 10)                10250     \n",
            "                                                                 \n",
            "=================================================================\n",
            "Total params: 3,274,634\n",
            "Trainable params: 3,274,634\n",
            "Non-trainable params: 0\n",
            "_________________________________________________________________\n"
          ]
        }
      ],
      "source": [
        "model.summary()"
      ]
    },
    {
      "cell_type": "code",
      "execution_count": null,
      "metadata": {
        "colab": {
          "base_uri": "https://localhost:8080/"
        },
        "id": "XL7h241CNcNw",
        "outputId": "7d9652db-96c6-4bbc-da80-759e7f758d9c"
      },
      "outputs": [
        {
          "name": "stdout",
          "output_type": "stream",
          "text": [
            "Epoch 1/20\n",
            "782/782 [==============================] - 12s 10ms/step - loss: 0.1379 - accuracy: 0.9572 - val_loss: 0.0476 - val_accuracy: 0.9852\n",
            "Epoch 2/20\n",
            "782/782 [==============================] - 7s 8ms/step - loss: 0.0447 - accuracy: 0.9862 - val_loss: 0.0408 - val_accuracy: 0.9883\n",
            "Epoch 3/20\n",
            "782/782 [==============================] - 8s 10ms/step - loss: 0.0281 - accuracy: 0.9911 - val_loss: 0.0406 - val_accuracy: 0.9876\n",
            "Epoch 4/20\n",
            "782/782 [==============================] - 7s 8ms/step - loss: 0.0224 - accuracy: 0.9929 - val_loss: 0.0372 - val_accuracy: 0.9890\n",
            "Epoch 5/20\n",
            "782/782 [==============================] - 7s 8ms/step - loss: 0.0192 - accuracy: 0.9935 - val_loss: 0.0375 - val_accuracy: 0.9903\n",
            "Epoch 6/20\n",
            "782/782 [==============================] - 7s 8ms/step - loss: 0.0144 - accuracy: 0.9953 - val_loss: 0.0418 - val_accuracy: 0.9893\n",
            "Epoch 7/20\n",
            "782/782 [==============================] - 10s 12ms/step - loss: 0.0130 - accuracy: 0.9957 - val_loss: 0.0435 - val_accuracy: 0.9911\n",
            "Epoch 8/20\n",
            "782/782 [==============================] - 9s 10ms/step - loss: 0.0119 - accuracy: 0.9961 - val_loss: 0.0411 - val_accuracy: 0.9902\n",
            "Epoch 9/20\n",
            "782/782 [==============================] - 7s 8ms/step - loss: 0.0092 - accuracy: 0.9970 - val_loss: 0.0468 - val_accuracy: 0.9910\n",
            "Epoch 10/20\n",
            "782/782 [==============================] - 7s 8ms/step - loss: 0.0101 - accuracy: 0.9969 - val_loss: 0.0483 - val_accuracy: 0.9911\n",
            "Epoch 11/20\n",
            "782/782 [==============================] - 7s 8ms/step - loss: 0.0094 - accuracy: 0.9972 - val_loss: 0.0484 - val_accuracy: 0.9907\n",
            "Epoch 12/20\n",
            "782/782 [==============================] - 7s 8ms/step - loss: 0.0080 - accuracy: 0.9974 - val_loss: 0.0490 - val_accuracy: 0.9903\n",
            "Epoch 13/20\n",
            "782/782 [==============================] - 7s 8ms/step - loss: 0.0066 - accuracy: 0.9979 - val_loss: 0.0690 - val_accuracy: 0.9887\n",
            "Epoch 14/20\n",
            "782/782 [==============================] - 7s 8ms/step - loss: 0.0078 - accuracy: 0.9976 - val_loss: 0.0572 - val_accuracy: 0.9896\n",
            "Epoch 15/20\n",
            "782/782 [==============================] - 7s 8ms/step - loss: 0.0064 - accuracy: 0.9979 - val_loss: 0.0581 - val_accuracy: 0.9912\n",
            "Epoch 16/20\n",
            "782/782 [==============================] - 7s 8ms/step - loss: 0.0081 - accuracy: 0.9977 - val_loss: 0.0498 - val_accuracy: 0.9899\n",
            "Epoch 17/20\n",
            "782/782 [==============================] - 7s 8ms/step - loss: 0.0064 - accuracy: 0.9979 - val_loss: 0.0607 - val_accuracy: 0.9904\n",
            "Epoch 18/20\n",
            "782/782 [==============================] - 7s 8ms/step - loss: 0.0056 - accuracy: 0.9981 - val_loss: 0.0563 - val_accuracy: 0.9893\n",
            "Epoch 19/20\n",
            "782/782 [==============================] - 7s 8ms/step - loss: 0.0061 - accuracy: 0.9981 - val_loss: 0.0606 - val_accuracy: 0.9911\n",
            "Epoch 20/20\n",
            "782/782 [==============================] - 8s 9ms/step - loss: 0.0057 - accuracy: 0.9983 - val_loss: 0.0672 - val_accuracy: 0.9911\n"
          ]
        }
      ],
      "source": [
        "model.compile(optimizer=tf.keras.optimizers.Adam(),\n",
        "              loss=tf.keras.losses.SparseCategoricalCrossentropy(),\n",
        "              metrics=['accuracy']) # same as `tf.keras.metrics.SparseCategoricalAccuracy(name='accuracy')`\n",
        "\n",
        "history = model.fit(mnist_train, epochs=NUM_EPOCHS, \n",
        "                    validation_data=mnist_valid, \n",
        "                    shuffle=True)"
      ]
    },
    {
      "cell_type": "code",
      "execution_count": null,
      "metadata": {
        "colab": {
          "base_uri": "https://localhost:8080/",
          "height": 286
        },
        "id": "u2mmPaj5NcQE",
        "outputId": "4c0f62da-a9b2-471d-9b42-daac8187de3b"
      },
      "outputs": [
        {
          "data": {
            "image/png": "[encoded data removed]",
            "text/plain": [
              "<Figure size 864x288 with 2 Axes>"
            ]
          },
          "metadata": {
            "needs_background": "light"
          },
          "output_type": "display_data"
        }
      ],
      "source": [
        "import numpy as np\n",
        "hist = history.history\n",
        "x_arr = np.arange(len(hist['loss'])) + 1\n",
        "\n",
        "fig = plt.figure(figsize=(12, 4))\n",
        "ax = fig.add_subplot(1, 2, 1)\n",
        "ax.plot(x_arr, hist['loss'], '-o', label='Train loss')\n",
        "ax.plot(x_arr, hist['val_loss'], '--<', label='Validation loss')\n",
        "ax.set_xlabel('Epoch', size=15)\n",
        "ax.set_ylabel('Loss', size=15)\n",
        "ax.legend(fontsize=15)\n",
        "ax = fig.add_subplot(1, 2, 2)\n",
        "ax.plot(x_arr, hist['accuracy'], '-o', label='Train acc.')\n",
        "ax.plot(x_arr, hist['val_accuracy'], '--<', label='Validation acc.')\n",
        "ax.legend(fontsize=15)\n",
        "ax.set_xlabel('Epoch', size=15)\n",
        "ax.set_ylabel('Accuracy', size=15)\n",
        "\n",
        "#plt.savefig('figures/15_12.png', dpi=300)\n",
        "plt.show()"
      ]
    },
    {
      "cell_type": "code",
      "execution_count": null,
      "metadata": {
        "colab": {
          "base_uri": "https://localhost:8080/"
        },
        "id": "9rgLSY09NcS6",
        "outputId": "7d5cdeaf-7a4a-4f61-d599-4b702ab889c2"
      },
      "outputs": [
        {
          "name": "stdout",
          "output_type": "stream",
          "text": [
            "500/500 [==============================] - 2s 4ms/step - loss: 0.0349 - accuracy: 0.9935\n",
            "\n",
            "Test Acc. 99.35%\n"
          ]
        }
      ],
      "source": [
        "test_results = model.evaluate(mnist_test.batch(20))\n",
        "print('\\nTest Acc. {:.2f}%'.format(test_results[1]*100))"
      ]
    },
    {
      "cell_type": "code",
      "execution_count": null,
      "metadata": {
        "colab": {
          "base_uri": "https://localhost:8080/",
          "height": 284
        },
        "id": "8nHf5Am_9cm7",
        "outputId": "ca420ebd-6a44-4d4a-d4fe-4ca35e473896"
      },
      "outputs": [
        {
          "name": "stdout",
          "output_type": "stream",
          "text": [
            "TensorShape([12, 10])\n",
            "tf.Tensor([2 0 4 8 7 6 0 6 3 1 8 0], shape=(12,), dtype=int64)\n"
          ]
        },
        {
          "data": {
            "image/png": "[encoded data removed]",
            "text/plain": [
              "<Figure size 864x288 with 12 Axes>"
            ]
          },
          "metadata": {},
          "output_type": "display_data"
        }
      ],
      "source": [
        "batch_test = next(iter(mnist_test.batch(12)))\n",
        "\n",
        "preds = model(batch_test[0])\n",
        "\n",
        "tf.print(preds.shape)\n",
        "preds = tf.argmax(preds, axis=1)\n",
        "print(preds)\n",
        "\n",
        "fig = plt.figure(figsize=(12, 4))\n",
        "for i in range(12):\n",
        "    ax = fig.add_subplot(2, 6, i+1)\n",
        "    ax.set_xticks([]); ax.set_yticks([])\n",
        "    img = batch_test[0][i, :, :, 0]\n",
        "    ax.imshow(img, cmap='gray_r')\n",
        "    ax.text(0.9, 0.1, '{}'.format(preds[i]), \n",
        "            size=15, color='blue',\n",
        "            horizontalalignment='center',\n",
        "            verticalalignment='center', \n",
        "            transform=ax.transAxes)\n",
        "    \n",
        "#plt.savefig('figures/15_13.png', dpi=300)\n",
        "plt.show()"
      ]
    },
    {
      "cell_type": "code",
      "execution_count": null,
      "metadata": {
        "id": "iVs0R-bt9cq5"
      },
      "outputs": [],
      "source": []
    },
    {
      "cell_type": "code",
      "execution_count": null,
      "metadata": {
        "id": "bXuoSr2RN-SY"
      },
      "outputs": [],
      "source": []
    },
    {
      "cell_type": "code",
      "execution_count": 6,
      "metadata": {
        "id": "G7Z5WtmTN-RL"
      },
      "outputs": [],
      "source": [
        "import tensorflow as tf\n",
        "from keras.datasets import fashion_mnist\n",
        "from tensorflow.keras.models import Sequential\n",
        "from tensorflow.keras.layers import Dense\n",
        "from tensorflow.keras.utils import to_categorical"
      ]
    },
    {
      "cell_type": "code",
      "execution_count": 7,
      "metadata": {
        "colab": {
          "base_uri": "https://localhost:8080/"
        },
        "id": "SLXHeM9MSlbQ",
        "outputId": "704e2460-72d5-43fc-cb89-b5ca47db5efa"
      },
      "outputs": [
        {
          "output_type": "stream",
          "name": "stdout",
          "text": [
            "Epoch 1/50\n",
            "844/844 [==============================] - 12s 5ms/step - loss: 0.4425 - accuracy: 0.8408 - val_loss: 0.2947 - val_accuracy: 0.8900\n",
            "Epoch 2/50\n",
            "844/844 [==============================] - 7s 8ms/step - loss: 0.2847 - accuracy: 0.8954 - val_loss: 0.2596 - val_accuracy: 0.9037\n",
            "Epoch 3/50\n",
            "844/844 [==============================] - 6s 7ms/step - loss: 0.2408 - accuracy: 0.9110 - val_loss: 0.2433 - val_accuracy: 0.9098\n",
            "Epoch 4/50\n",
            "844/844 [==============================] - 4s 5ms/step - loss: 0.2093 - accuracy: 0.9218 - val_loss: 0.2307 - val_accuracy: 0.9160\n",
            "Epoch 5/50\n",
            "844/844 [==============================] - 4s 5ms/step - loss: 0.1847 - accuracy: 0.9320 - val_loss: 0.2257 - val_accuracy: 0.9180\n",
            "Epoch 6/50\n",
            "844/844 [==============================] - 4s 5ms/step - loss: 0.1633 - accuracy: 0.9388 - val_loss: 0.2291 - val_accuracy: 0.9172\n",
            "Epoch 7/50\n",
            "844/844 [==============================] - 4s 5ms/step - loss: 0.1426 - accuracy: 0.9465 - val_loss: 0.2280 - val_accuracy: 0.9228\n",
            "Epoch 8/50\n",
            "844/844 [==============================] - 4s 5ms/step - loss: 0.1264 - accuracy: 0.9515 - val_loss: 0.2286 - val_accuracy: 0.9252\n",
            "Epoch 9/50\n",
            "844/844 [==============================] - 4s 5ms/step - loss: 0.1094 - accuracy: 0.9588 - val_loss: 0.2304 - val_accuracy: 0.9242\n",
            "Epoch 10/50\n",
            "844/844 [==============================] - 4s 5ms/step - loss: 0.0969 - accuracy: 0.9636 - val_loss: 0.2584 - val_accuracy: 0.9233\n",
            "Epoch 11/50\n",
            "844/844 [==============================] - 4s 5ms/step - loss: 0.0843 - accuracy: 0.9682 - val_loss: 0.2569 - val_accuracy: 0.9212\n",
            "Epoch 12/50\n",
            "844/844 [==============================] - 4s 5ms/step - loss: 0.0784 - accuracy: 0.9702 - val_loss: 0.2759 - val_accuracy: 0.9242\n",
            "Epoch 13/50\n",
            "844/844 [==============================] - 4s 5ms/step - loss: 0.0686 - accuracy: 0.9742 - val_loss: 0.2835 - val_accuracy: 0.9257\n",
            "Epoch 14/50\n",
            "844/844 [==============================] - 4s 5ms/step - loss: 0.0582 - accuracy: 0.9781 - val_loss: 0.3119 - val_accuracy: 0.9210\n",
            "Epoch 15/50\n",
            "844/844 [==============================] - 4s 5ms/step - loss: 0.0563 - accuracy: 0.9790 - val_loss: 0.3044 - val_accuracy: 0.9207\n",
            "Epoch 16/50\n",
            "844/844 [==============================] - 4s 5ms/step - loss: 0.0498 - accuracy: 0.9818 - val_loss: 0.3400 - val_accuracy: 0.9218\n",
            "Epoch 17/50\n",
            "844/844 [==============================] - 4s 5ms/step - loss: 0.0484 - accuracy: 0.9817 - val_loss: 0.3571 - val_accuracy: 0.9172\n",
            "Epoch 18/50\n",
            "844/844 [==============================] - 4s 5ms/step - loss: 0.0485 - accuracy: 0.9818 - val_loss: 0.3522 - val_accuracy: 0.9247\n",
            "Epoch 19/50\n",
            "844/844 [==============================] - 4s 5ms/step - loss: 0.0400 - accuracy: 0.9852 - val_loss: 0.4013 - val_accuracy: 0.9157\n",
            "Epoch 20/50\n",
            "844/844 [==============================] - 4s 5ms/step - loss: 0.0377 - accuracy: 0.9864 - val_loss: 0.4104 - val_accuracy: 0.9167\n",
            "Epoch 21/50\n",
            "844/844 [==============================] - 4s 5ms/step - loss: 0.0401 - accuracy: 0.9858 - val_loss: 0.4154 - val_accuracy: 0.9218\n",
            "Epoch 22/50\n",
            "844/844 [==============================] - 4s 5ms/step - loss: 0.0355 - accuracy: 0.9870 - val_loss: 0.4184 - val_accuracy: 0.9230\n",
            "Epoch 23/50\n",
            "844/844 [==============================] - 4s 5ms/step - loss: 0.0362 - accuracy: 0.9871 - val_loss: 0.4347 - val_accuracy: 0.9200\n",
            "Epoch 24/50\n",
            "844/844 [==============================] - 4s 5ms/step - loss: 0.0307 - accuracy: 0.9889 - val_loss: 0.4453 - val_accuracy: 0.9200\n",
            "Epoch 25/50\n",
            "844/844 [==============================] - 4s 5ms/step - loss: 0.0313 - accuracy: 0.9885 - val_loss: 0.4705 - val_accuracy: 0.9210\n",
            "Epoch 26/50\n",
            "844/844 [==============================] - 4s 5ms/step - loss: 0.0305 - accuracy: 0.9894 - val_loss: 0.4541 - val_accuracy: 0.9207\n",
            "Epoch 27/50\n",
            "844/844 [==============================] - 4s 5ms/step - loss: 0.0288 - accuracy: 0.9902 - val_loss: 0.4543 - val_accuracy: 0.9208\n",
            "Epoch 28/50\n",
            "844/844 [==============================] - 4s 5ms/step - loss: 0.0289 - accuracy: 0.9898 - val_loss: 0.4477 - val_accuracy: 0.9215\n",
            "Epoch 29/50\n",
            "844/844 [==============================] - 4s 5ms/step - loss: 0.0273 - accuracy: 0.9907 - val_loss: 0.4742 - val_accuracy: 0.9212\n",
            "Epoch 30/50\n",
            "844/844 [==============================] - 4s 5ms/step - loss: 0.0292 - accuracy: 0.9899 - val_loss: 0.5784 - val_accuracy: 0.9187\n",
            "Epoch 31/50\n",
            "844/844 [==============================] - 4s 5ms/step - loss: 0.0289 - accuracy: 0.9902 - val_loss: 0.5115 - val_accuracy: 0.9223\n",
            "Epoch 32/50\n",
            "844/844 [==============================] - 4s 5ms/step - loss: 0.0220 - accuracy: 0.9925 - val_loss: 0.5262 - val_accuracy: 0.9182\n",
            "Epoch 33/50\n",
            "844/844 [==============================] - 4s 5ms/step - loss: 0.0266 - accuracy: 0.9909 - val_loss: 0.5203 - val_accuracy: 0.9182\n",
            "Epoch 34/50\n",
            "844/844 [==============================] - 4s 5ms/step - loss: 0.0323 - accuracy: 0.9897 - val_loss: 0.5490 - val_accuracy: 0.9185\n",
            "Epoch 35/50\n",
            "844/844 [==============================] - 4s 5ms/step - loss: 0.0219 - accuracy: 0.9926 - val_loss: 0.6119 - val_accuracy: 0.9203\n",
            "Epoch 36/50\n",
            "844/844 [==============================] - 4s 5ms/step - loss: 0.0246 - accuracy: 0.9919 - val_loss: 0.5495 - val_accuracy: 0.9222\n",
            "Epoch 37/50\n",
            "844/844 [==============================] - 4s 5ms/step - loss: 0.0267 - accuracy: 0.9911 - val_loss: 0.6930 - val_accuracy: 0.9203\n",
            "Epoch 38/50\n",
            "844/844 [==============================] - 4s 5ms/step - loss: 0.0264 - accuracy: 0.9918 - val_loss: 0.5424 - val_accuracy: 0.9205\n",
            "Epoch 39/50\n",
            "844/844 [==============================] - 4s 5ms/step - loss: 0.0208 - accuracy: 0.9933 - val_loss: 0.5639 - val_accuracy: 0.9192\n",
            "Epoch 40/50\n",
            "844/844 [==============================] - 4s 5ms/step - loss: 0.0204 - accuracy: 0.9930 - val_loss: 0.6777 - val_accuracy: 0.9203\n",
            "Epoch 41/50\n",
            "844/844 [==============================] - 4s 5ms/step - loss: 0.0236 - accuracy: 0.9924 - val_loss: 0.6591 - val_accuracy: 0.9197\n",
            "Epoch 42/50\n",
            "844/844 [==============================] - 4s 5ms/step - loss: 0.0232 - accuracy: 0.9930 - val_loss: 0.6320 - val_accuracy: 0.9210\n",
            "Epoch 43/50\n",
            "844/844 [==============================] - 4s 5ms/step - loss: 0.0254 - accuracy: 0.9921 - val_loss: 0.6162 - val_accuracy: 0.9192\n",
            "Epoch 44/50\n",
            "844/844 [==============================] - 4s 5ms/step - loss: 0.0238 - accuracy: 0.9926 - val_loss: 0.6576 - val_accuracy: 0.9187\n",
            "Epoch 45/50\n",
            "844/844 [==============================] - 4s 5ms/step - loss: 0.0207 - accuracy: 0.9933 - val_loss: 0.6620 - val_accuracy: 0.9173\n",
            "Epoch 46/50\n",
            "844/844 [==============================] - 4s 5ms/step - loss: 0.0188 - accuracy: 0.9937 - val_loss: 0.6640 - val_accuracy: 0.9165\n",
            "Epoch 47/50\n",
            "844/844 [==============================] - 4s 5ms/step - loss: 0.0207 - accuracy: 0.9940 - val_loss: 0.7116 - val_accuracy: 0.9173\n",
            "Epoch 48/50\n",
            "844/844 [==============================] - 5s 5ms/step - loss: 0.0269 - accuracy: 0.9919 - val_loss: 0.6601 - val_accuracy: 0.9182\n",
            "Epoch 49/50\n",
            "844/844 [==============================] - 4s 5ms/step - loss: 0.0215 - accuracy: 0.9935 - val_loss: 0.7438 - val_accuracy: 0.9197\n",
            "Epoch 50/50\n",
            "844/844 [==============================] - 4s 5ms/step - loss: 0.0201 - accuracy: 0.9934 - val_loss: 0.6419 - val_accuracy: 0.9200\n",
            "\n",
            "--- 262.6336946487427 seconds ---\n",
            "313/313 [==============================] - 1s 3ms/step - loss: 0.7255 - accuracy: 0.9174\n",
            "Test results - Loss: 0.7254787087440491 - Accuracy: 0.9174000024795532%\n"
          ]
        }
      ],
      "source": [
        "from keras.datasets import fashion_mnist\n",
        "(X_train, y_train), (X_test, y_test) = fashion_mnist.load_data()\n",
        "# print(X_train.shape)\n",
        "# print(y_train.shape)\n",
        "# print(X_test.shape)\n",
        "# print(y_test.shape)\n",
        "\n",
        "\n",
        "\n",
        "# Convert into greyscale\n",
        "X_train = X_train.astype('float32')\n",
        "X_test = X_test.astype('float32')\n",
        "X_train /= 255\n",
        "X_test /= 255\n",
        "\n",
        "\n",
        "num_classes = 10\n",
        "\n",
        "# Convert target classes to categorical ones\n",
        "y_train = to_categorical(y_train, num_classes)\n",
        "y_test = to_categorical(y_test, num_classes)\n",
        "\n",
        "\n",
        "# Create the model\n",
        "model = tf.keras.Sequential()\n",
        "\n",
        "model.add(tf.keras.layers.Conv2D(\n",
        "    filters=32, kernel_size=(5, 5),\n",
        "    strides=(1, 1), padding='same',\n",
        "    data_format='channels_last',\n",
        "    name='conv_1', activation='relu'))\n",
        "\n",
        "model.add(tf.keras.layers.MaxPool2D(\n",
        "    pool_size=(2, 2), name='pool_1'))\n",
        "    \n",
        "model.add(tf.keras.layers.Conv2D(\n",
        "    filters=64, kernel_size=(5, 5),\n",
        "    strides=(1, 1), padding='same',\n",
        "    name='conv_2', activation='relu'))\n",
        "\n",
        "model.add(tf.keras.layers.MaxPool2D(pool_size=(2, 2), name='pool_2'))\n",
        "\n",
        "model.compute_output_shape(input_shape=(16, 28, 28, 1))\n",
        "\n",
        "model.add(tf.keras.layers.Flatten())\n",
        "    \n",
        "model.compute_output_shape(input_shape=(16, 28, 28, 1))\n",
        "\n",
        "model.add(tf.keras.layers.Dense(\n",
        "    units=1024, name='fc_1', \n",
        "    activation='relu'))\n",
        "\n",
        "model.add(tf.keras.layers.Dropout(\n",
        "    rate=0.5))\n",
        "    \n",
        "model.add(tf.keras.layers.Dense(\n",
        "    units=10, name='fc_2',\n",
        "    activation='softmax'))\n",
        "\n",
        "tf.random.set_seed(1)\n",
        "model.build(input_shape=(None, 28, 28, 1))\n",
        "\n",
        "model.compute_output_shape(input_shape=(16, 28, 28, 1))\n",
        "\n",
        "\n",
        "\n",
        "\n",
        "# Configure the model and start training\n",
        "model.compile(loss='categorical_crossentropy', optimizer='adam', metrics=['accuracy'])\n",
        "\n",
        "import time\n",
        "start_time = time.time()\n",
        "\n",
        "\n",
        "history = model.fit(X_train, y_train, batch_size=64, epochs=50, verbose=1, validation_split=0.1)\n",
        "\n",
        "print()\n",
        "print(\"--- %s seconds ---\" % (time.time() - start_time))\n",
        "\n",
        "# model.fit(X_train, y_train, epochs=10, batch_size=250, verbose=1, validation_split=0.2)\n",
        "\n",
        "# Test the model after training\n",
        "test_results = model.evaluate(X_test, y_test, verbose=1)\n",
        "print(f'Test results - Loss: {test_results[0]} - Accuracy: {test_results[1]}%')"
      ]
    },
    {
      "cell_type": "code",
      "source": [
        "model.summary()"
      ],
      "metadata": {
        "colab": {
          "base_uri": "https://localhost:8080/"
        },
        "id": "jZ9RYn91IAmr",
        "outputId": "8f44dc6d-6890-45b4-c8b2-21fb12b4a43c"
      },
      "execution_count": 8,
      "outputs": [
        {
          "output_type": "stream",
          "name": "stdout",
          "text": [
            "Model: \"sequential\"\n",
            "_________________________________________________________________\n",
            " Layer (type)                Output Shape              Param #   \n",
            "=================================================================\n",
            " conv_1 (Conv2D)             (None, 28, 28, 32)        832       \n",
            "                                                                 \n",
            " pool_1 (MaxPooling2D)       (None, 14, 14, 32)        0         \n",
            "                                                                 \n",
            " conv_2 (Conv2D)             (None, 14, 14, 64)        51264     \n",
            "                                                                 \n",
            " pool_2 (MaxPooling2D)       (None, 7, 7, 64)          0         \n",
            "                                                                 \n",
            " flatten (Flatten)           (None, 3136)              0         \n",
            "                                                                 \n",
            " fc_1 (Dense)                (None, 1024)              3212288   \n",
            "                                                                 \n",
            " dropout (Dropout)           (None, 1024)              0         \n",
            "                                                                 \n",
            " fc_2 (Dense)                (None, 10)                10250     \n",
            "                                                                 \n",
            "=================================================================\n",
            "Total params: 3,274,634\n",
            "Trainable params: 3,274,634\n",
            "Non-trainable params: 0\n",
            "_________________________________________________________________\n"
          ]
        }
      ]
    },
    {
      "cell_type": "code",
      "source": [
        "from sklearn.metrics import precision_score\n",
        "from sklearn.metrics import recall_score, f1_score\n",
        "\n",
        "y_pred = (model.predict(X_test) > 0.5).astype(\"int32\")\n",
        "\n",
        "print('Precision: %.3f' % precision_score( y_true=y_test, y_pred=y_pred ,  average='macro'))\n",
        "\n",
        "print('Recall: %.3f' % recall_score(y_true=y_test, y_pred=y_pred ,  average='macro'))\n",
        "\n",
        "print('F1: %.3f' % f1_score(y_true=y_test, y_pred=y_pred ,  average='macro'))"
      ],
      "metadata": {
        "colab": {
          "base_uri": "https://localhost:8080/"
        },
        "id": "F4WUA_95Lb9q",
        "outputId": "aa9a39a5-abc4-4da3-fe45-02723f05eda4"
      },
      "execution_count": 15,
      "outputs": [
        {
          "output_type": "stream",
          "name": "stdout",
          "text": [
            "313/313 [==============================] - 1s 2ms/step\n",
            "Precision: 0.919\n",
            "Recall: 0.917\n",
            "F1: 0.918\n"
          ]
        }
      ]
    },
    {
      "cell_type": "code",
      "execution_count": 9,
      "metadata": {
        "id": "DGjhQVjZSQtP"
      },
      "outputs": [],
      "source": [
        "import numpy as np\n",
        "y_real = np.argmax(y_test , axis=1)\n",
        "y_pred = tf.argmax(model(X_test), axis=1).numpy()"
      ]
    },
    {
      "cell_type": "code",
      "execution_count": 10,
      "metadata": {
        "colab": {
          "base_uri": "https://localhost:8080/"
        },
        "id": "DCt58mK7SQqz",
        "outputId": "96d93447-2ea1-4c18-c806-92cb1872ac83"
      },
      "outputs": [
        {
          "output_type": "execute_result",
          "data": {
            "text/plain": [
              "826"
            ]
          },
          "metadata": {},
          "execution_count": 10
        }
      ],
      "source": [
        "wrong_pred = np.where(y_pred != y_real)\n",
        "len(wrong_pred[0])"
      ]
    },
    {
      "cell_type": "code",
      "execution_count": 11,
      "metadata": {
        "colab": {
          "base_uri": "https://localhost:8080/"
        },
        "id": "DlSTuzc_SQn6",
        "outputId": "65ceb478-1b97-485c-f2b2-0d78daeca358"
      },
      "outputs": [
        {
          "output_type": "execute_result",
          "data": {
            "text/plain": [
              "0.9235"
            ]
          },
          "metadata": {},
          "execution_count": 11
        }
      ],
      "source": [
        "(10000-765)/10000"
      ]
    },
    {
      "cell_type": "code",
      "source": [
        "import numpy as np\n",
        "from sklearn.metrics import multilabel_confusion_matrix\n",
        "\n",
        "multilabel_confusion_matrix(y_test, y_pred)"
      ],
      "metadata": {
        "colab": {
          "base_uri": "https://localhost:8080/"
        },
        "id": "3nAnP-XGMGRp",
        "outputId": "079c0dda-b410-4818-dafb-fce53c7d397c"
      },
      "execution_count": 18,
      "outputs": [
        {
          "output_type": "execute_result",
          "data": {
            "text/plain": [
              "array([[[8899,  101],\n",
              "        [ 159,  841]],\n",
              "\n",
              "       [[8989,   11],\n",
              "        [  14,  986]],\n",
              "\n",
              "       [[8866,  134],\n",
              "        [ 129,  871]],\n",
              "\n",
              "       [[8922,   78],\n",
              "        [  75,  925]],\n",
              "\n",
              "       [[8859,  141],\n",
              "        [ 124,  876]],\n",
              "\n",
              "       [[8987,   13],\n",
              "        [  24,  976]],\n",
              "\n",
              "       [[8742,  258],\n",
              "        [ 216,  784]],\n",
              "\n",
              "       [[8968,   32],\n",
              "        [  42,  958]],\n",
              "\n",
              "       [[8993,    7],\n",
              "        [  23,  977]],\n",
              "\n",
              "       [[8956,   44],\n",
              "        [  21,  979]]])"
            ]
          },
          "metadata": {},
          "execution_count": 18
        }
      ]
    },
    {
      "cell_type": "markdown",
      "metadata": {
        "id": "ZWp3sdebie8W"
      },
      "source": [
        "## Wrong predicted"
      ]
    },
    {
      "cell_type": "code",
      "execution_count": null,
      "metadata": {
        "colab": {
          "base_uri": "https://localhost:8080/",
          "height": 249
        },
        "id": "bJjBkjHkfF56",
        "outputId": "cb17ab66-0bab-48dc-9784-d6a7b7c4789b"
      },
      "outputs": [
        {
          "data": {
            "image/png": "[encoded data removed]",
            "text/plain": [
              "<Figure size 864x288 with 12 Axes>"
            ]
          },
          "metadata": {},
          "output_type": "display_data"
        }
      ],
      "source": [
        "import matplotlib.pyplot as plt\n",
        "fig = plt.figure(figsize=(12, 4))\n",
        "for i in range(12):\n",
        "    ax = fig.add_subplot(2, 6, i+1)\n",
        "    ax.set_xticks([]); ax.set_yticks([])\n",
        "    img = X_test[wrong_pred[0][i]]\n",
        "    ax.imshow(img, cmap='gray_r')\n",
        "    ax.text(0.9, 0.1, '{}'.format(y_pred[wrong_pred[0][i]]), \n",
        "            size=15, color='blue',\n",
        "            horizontalalignment='center',\n",
        "            verticalalignment='center', \n",
        "            transform=ax.transAxes)\n",
        "    \n",
        "#plt.savefig('figures/15_13.png', dpi=300)\n",
        "plt.show()"
      ]
    },
    {
      "cell_type": "code",
      "execution_count": null,
      "metadata": {
        "colab": {
          "base_uri": "https://localhost:8080/"
        },
        "id": "FcglkuHifEQi",
        "outputId": "f6b11c92-e2d8-4cf2-8338-e6a6e1327148"
      },
      "outputs": [
        {
          "name": "stdout",
          "output_type": "stream",
          "text": [
            "real class    predicted class\n",
            "     9            5\n",
            "     4            6\n",
            "     6            0\n",
            "     3            6\n",
            "     3            4\n",
            "     9            7\n",
            "     4            2\n",
            "     9            7\n",
            "     6            3\n",
            "     4            3\n",
            "     0            6\n",
            "     2            4\n"
          ]
        }
      ],
      "source": [
        "print(\"real class    predicted class\")\n",
        "for i in range(12):\n",
        "  print( \"    \"  ,y_real[wrong_pred[0][i]] , \"          \"  ,y_pred[wrong_pred[0][i]])"
      ]
    },
    {
      "cell_type": "code",
      "execution_count": null,
      "metadata": {
        "id": "WDtZXlzdSQlg"
      },
      "outputs": [],
      "source": []
    },
    {
      "cell_type": "code",
      "execution_count": null,
      "metadata": {
        "id": "EdSZxdbAN98R"
      },
      "outputs": [],
      "source": []
    },
    {
      "cell_type": "code",
      "execution_count": null,
      "metadata": {
        "id": "bWe9dHrzhqg3"
      },
      "outputs": [],
      "source": []
    }
  ],
  "metadata": {
    "accelerator": "GPU",
    "colab": {
      "provenance": []
    },
    "gpuClass": "standard",
    "kernelspec": {
      "display_name": "Python 3 (ipykernel)",
      "language": "python",
      "name": "python3"
    },
    "language_info": {
      "codemirror_mode": {
        "name": "ipython",
        "version": 3
      },
      "file_extension": ".py",
      "mimetype": "text/x-python",
      "name": "python",
      "nbconvert_exporter": "python",
      "pygments_lexer": "ipython3",
      "version": "3.9.12"
    },
    "widgets": {
      "application/vnd.jupyter.widget-state+json": {
        "73769e77bee241fb907293cb5f255466": {
          "model_module": "@jupyter-widgets/controls",
          "model_name": "HBoxModel",
          "model_module_version": "1.5.0",
          "state": {
            "_dom_classes": [],
            "_model_module": "@jupyter-widgets/controls",
            "_model_module_version": "1.5.0",
            "_model_name": "HBoxModel",
            "_view_count": null,
            "_view_module": "@jupyter-widgets/controls",
            "_view_module_version": "1.5.0",
            "_view_name": "HBoxView",
            "box_style": "",
            "children": [
              "IPY_MODEL_8940c30df185418f8e0f486c4b493ca6",
              "IPY_MODEL_2e34eb86b91d4adc96a2e86d1f94ac30",
              "IPY_MODEL_56309e1e16074f7db00a30fc0ba5b525"
            ],
            "layout": "IPY_MODEL_7172192ca62844dd835350df1c3c0c71"
          }
        },
        "8940c30df185418f8e0f486c4b493ca6": {
          "model_module": "@jupyter-widgets/controls",
          "model_name": "HTMLModel",
          "model_module_version": "1.5.0",
          "state": {
            "_dom_classes": [],
            "_model_module": "@jupyter-widgets/controls",
            "_model_module_version": "1.5.0",
            "_model_name": "HTMLModel",
            "_view_count": null,
            "_view_module": "@jupyter-widgets/controls",
            "_view_module_version": "1.5.0",
            "_view_name": "HTMLView",
            "description": "",
            "description_tooltip": null,
            "layout": "IPY_MODEL_01f8f3f610fa40e88b6f4d43058a484b",
            "placeholder": "​",
            "style": "IPY_MODEL_5a2f072b53884fe3ae527fa8ec8a62b6",
            "value": "Dl Completed...: 100%"
          }
        },
        "2e34eb86b91d4adc96a2e86d1f94ac30": {
          "model_module": "@jupyter-widgets/controls",
          "model_name": "FloatProgressModel",
          "model_module_version": "1.5.0",
          "state": {
            "_dom_classes": [],
            "_model_module": "@jupyter-widgets/controls",
            "_model_module_version": "1.5.0",
            "_model_name": "FloatProgressModel",
            "_view_count": null,
            "_view_module": "@jupyter-widgets/controls",
            "_view_module_version": "1.5.0",
            "_view_name": "ProgressView",
            "bar_style": "success",
            "description": "",
            "description_tooltip": null,
            "layout": "IPY_MODEL_f6fd71e3dd0643d5be28b758f4536752",
            "max": 5,
            "min": 0,
            "orientation": "horizontal",
            "style": "IPY_MODEL_65468023133b4b06a65eb30a4c8e810e",
            "value": 5
          }
        },
        "56309e1e16074f7db00a30fc0ba5b525": {
          "model_module": "@jupyter-widgets/controls",
          "model_name": "HTMLModel",
          "model_module_version": "1.5.0",
          "state": {
            "_dom_classes": [],
            "_model_module": "@jupyter-widgets/controls",
            "_model_module_version": "1.5.0",
            "_model_name": "HTMLModel",
            "_view_count": null,
            "_view_module": "@jupyter-widgets/controls",
            "_view_module_version": "1.5.0",
            "_view_name": "HTMLView",
            "description": "",
            "description_tooltip": null,
            "layout": "IPY_MODEL_765a2d7757394473a691301a0853a39d",
            "placeholder": "​",
            "style": "IPY_MODEL_d4a6812f032542dfafef25aa3bcf6071",
            "value": " 5/5 [00:02&lt;00:00,  2.04 file/s]"
          }
        },
        "7172192ca62844dd835350df1c3c0c71": {
          "model_module": "@jupyter-widgets/base",
          "model_name": "LayoutModel",
          "model_module_version": "1.2.0",
          "state": {
            "_model_module": "@jupyter-widgets/base",
            "_model_module_version": "1.2.0",
            "_model_name": "LayoutModel",
            "_view_count": null,
            "_view_module": "@jupyter-widgets/base",
            "_view_module_version": "1.2.0",
            "_view_name": "LayoutView",
            "align_content": null,
            "align_items": null,
            "align_self": null,
            "border": null,
            "bottom": null,
            "display": null,
            "flex": null,
            "flex_flow": null,
            "grid_area": null,
            "grid_auto_columns": null,
            "grid_auto_flow": null,
            "grid_auto_rows": null,
            "grid_column": null,
            "grid_gap": null,
            "grid_row": null,
            "grid_template_areas": null,
            "grid_template_columns": null,
            "grid_template_rows": null,
            "height": null,
            "justify_content": null,
            "justify_items": null,
            "left": null,
            "margin": null,
            "max_height": null,
            "max_width": null,
            "min_height": null,
            "min_width": null,
            "object_fit": null,
            "object_position": null,
            "order": null,
            "overflow": null,
            "overflow_x": null,
            "overflow_y": null,
            "padding": null,
            "right": null,
            "top": null,
            "visibility": null,
            "width": null
          }
        },
        "01f8f3f610fa40e88b6f4d43058a484b": {
          "model_module": "@jupyter-widgets/base",
          "model_name": "LayoutModel",
          "model_module_version": "1.2.0",
          "state": {
            "_model_module": "@jupyter-widgets/base",
            "_model_module_version": "1.2.0",
            "_model_name": "LayoutModel",
            "_view_count": null,
            "_view_module": "@jupyter-widgets/base",
            "_view_module_version": "1.2.0",
            "_view_name": "LayoutView",
            "align_content": null,
            "align_items": null,
            "align_self": null,
            "border": null,
            "bottom": null,
            "display": null,
            "flex": null,
            "flex_flow": null,
            "grid_area": null,
            "grid_auto_columns": null,
            "grid_auto_flow": null,
            "grid_auto_rows": null,
            "grid_column": null,
            "grid_gap": null,
            "grid_row": null,
            "grid_template_areas": null,
            "grid_template_columns": null,
            "grid_template_rows": null,
            "height": null,
            "justify_content": null,
            "justify_items": null,
            "left": null,
            "margin": null,
            "max_height": null,
            "max_width": null,
            "min_height": null,
            "min_width": null,
            "object_fit": null,
            "object_position": null,
            "order": null,
            "overflow": null,
            "overflow_x": null,
            "overflow_y": null,
            "padding": null,
            "right": null,
            "top": null,
            "visibility": null,
            "width": null
          }
        },
        "5a2f072b53884fe3ae527fa8ec8a62b6": {
          "model_module": "@jupyter-widgets/controls",
          "model_name": "DescriptionStyleModel",
          "model_module_version": "1.5.0",
          "state": {
            "_model_module": "@jupyter-widgets/controls",
            "_model_module_version": "1.5.0",
            "_model_name": "DescriptionStyleModel",
            "_view_count": null,
            "_view_module": "@jupyter-widgets/base",
            "_view_module_version": "1.2.0",
            "_view_name": "StyleView",
            "description_width": ""
          }
        },
        "f6fd71e3dd0643d5be28b758f4536752": {
          "model_module": "@jupyter-widgets/base",
          "model_name": "LayoutModel",
          "model_module_version": "1.2.0",
          "state": {
            "_model_module": "@jupyter-widgets/base",
            "_model_module_version": "1.2.0",
            "_model_name": "LayoutModel",
            "_view_count": null,
            "_view_module": "@jupyter-widgets/base",
            "_view_module_version": "1.2.0",
            "_view_name": "LayoutView",
            "align_content": null,
            "align_items": null,
            "align_self": null,
            "border": null,
            "bottom": null,
            "display": null,
            "flex": null,
            "flex_flow": null,
            "grid_area": null,
            "grid_auto_columns": null,
            "grid_auto_flow": null,
            "grid_auto_rows": null,
            "grid_column": null,
            "grid_gap": null,
            "grid_row": null,
            "grid_template_areas": null,
            "grid_template_columns": null,
            "grid_template_rows": null,
            "height": null,
            "justify_content": null,
            "justify_items": null,
            "left": null,
            "margin": null,
            "max_height": null,
            "max_width": null,
            "min_height": null,
            "min_width": null,
            "object_fit": null,
            "object_position": null,
            "order": null,
            "overflow": null,
            "overflow_x": null,
            "overflow_y": null,
            "padding": null,
            "right": null,
            "top": null,
            "visibility": null,
            "width": null
          }
        },
        "65468023133b4b06a65eb30a4c8e810e": {
          "model_module": "@jupyter-widgets/controls",
          "model_name": "ProgressStyleModel",
          "model_module_version": "1.5.0",
          "state": {
            "_model_module": "@jupyter-widgets/controls",
            "_model_module_version": "1.5.0",
            "_model_name": "ProgressStyleModel",
            "_view_count": null,
            "_view_module": "@jupyter-widgets/base",
            "_view_module_version": "1.2.0",
            "_view_name": "StyleView",
            "bar_color": null,
            "description_width": ""
          }
        },
        "765a2d7757394473a691301a0853a39d": {
          "model_module": "@jupyter-widgets/base",
          "model_name": "LayoutModel",
          "model_module_version": "1.2.0",
          "state": {
            "_model_module": "@jupyter-widgets/base",
            "_model_module_version": "1.2.0",
            "_model_name": "LayoutModel",
            "_view_count": null,
            "_view_module": "@jupyter-widgets/base",
            "_view_module_version": "1.2.0",
            "_view_name": "LayoutView",
            "align_content": null,
            "align_items": null,
            "align_self": null,
            "border": null,
            "bottom": null,
            "display": null,
            "flex": null,
            "flex_flow": null,
            "grid_area": null,
            "grid_auto_columns": null,
            "grid_auto_flow": null,
            "grid_auto_rows": null,
            "grid_column": null,
            "grid_gap": null,
            "grid_row": null,
            "grid_template_areas": null,
            "grid_template_columns": null,
            "grid_template_rows": null,
            "height": null,
            "justify_content": null,
            "justify_items": null,
            "left": null,
            "margin": null,
            "max_height": null,
            "max_width": null,
            "min_height": null,
            "min_width": null,
            "object_fit": null,
            "object_position": null,
            "order": null,
            "overflow": null,
            "overflow_x": null,
            "overflow_y": null,
            "padding": null,
            "right": null,
            "top": null,
            "visibility": null,
            "width": null
          }
        },
        "d4a6812f032542dfafef25aa3bcf6071": {
          "model_module": "@jupyter-widgets/controls",
          "model_name": "DescriptionStyleModel",
          "model_module_version": "1.5.0",
          "state": {
            "_model_module": "@jupyter-widgets/controls",
            "_model_module_version": "1.5.0",
            "_model_name": "DescriptionStyleModel",
            "_view_count": null,
            "_view_module": "@jupyter-widgets/base",
            "_view_module_version": "1.2.0",
            "_view_name": "StyleView",
            "description_width": ""
          }
        }
      }
    }
  },
  "nbformat": 4,
  "nbformat_minor": 0
}